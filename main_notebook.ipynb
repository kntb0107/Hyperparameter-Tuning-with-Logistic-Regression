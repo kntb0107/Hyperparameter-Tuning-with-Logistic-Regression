{
  "nbformat": 4,
  "nbformat_minor": 0,
  "metadata": {
    "colab": {
      "name": "main_notebook.ipynb",
      "provenance": [],
      "collapsed_sections": [
        "aVXSMf-cVYAE",
        "AZR0gAZIpmqG"
      ],
      "toc_visible": true,
      "include_colab_link": true
    },
    "kernelspec": {
      "display_name": "Python 3",
      "name": "python3"
    },
    "language_info": {
      "name": "python"
    }
  },
  "cells": [
    {
      "cell_type": "markdown",
      "metadata": {
        "id": "view-in-github",
        "colab_type": "text"
      },
      "source": [
        "<a href=\"https://colab.research.google.com/github/kntb0107/odl_tutorials/blob/main/main_notebook.ipynb\" target=\"_parent\"><img src=\"https://colab.research.google.com/assets/colab-badge.svg\" alt=\"Open In Colab\"/></a>"
      ]
    },
    {
      "cell_type": "markdown",
      "metadata": {
        "id": "8p_itiZwujZG"
      },
      "source": [
        "### **TITLE**: Utilizing Deep Learning Techniques to Determine Factors Influencing the Likability of the Songs Present within a Spotify Dataset"
      ]
    },
    {
      "cell_type": "markdown",
      "metadata": {
        "id": "vuV1NeNpv_rZ"
      },
      "source": [
        "# **INITALIZATION**"
      ]
    },
    {
      "cell_type": "code",
      "metadata": {
        "id": "TUqM4GWYuAZE"
      },
      "source": [
        "#IMPORTING LIBRARIES\n",
        "import pandas as pd\n",
        "import numpy as np\n",
        "import seaborn as sns\n",
        "import matplotlib.pyplot as plt\n",
        "\n",
        "from sklearn.preprocessing import RobustScaler , LabelEncoder\n",
        "from sklearn.model_selection import train_test_split\n",
        "from sklearn.tree import DecisionTreeClassifier\n",
        "from sklearn.ensemble import RandomForestClassifier\n",
        "from sklearn.ensemble import GradientBoostingClassifier\n",
        "from sklearn.feature_selection import SelectFromModel\n",
        "\n",
        "from sklearn.linear_model import LogisticRegression\n",
        "from sklearn.metrics import accuracy_score, precision_score, recall_score, f1_score\n",
        "from sklearn.metrics import confusion_matrix, ConfusionMatrixDisplay, plot_confusion_matrix\n",
        "from sklearn import metrics\n",
        "from sklearn.model_selection import GridSearchCV\n",
        "from sklearn.metrics import mean_squared_error, r2_score, accuracy_score, confusion_matrix\n",
        "from sklearn.metrics import roc_curve, auc, roc_auc_score\n",
        "from sklearn.model_selection import RandomizedSearchCV\n",
        "from pprint import pprint\n",
        "\n",
        "import warnings\n",
        "warnings.simplefilter(\"ignore\")"
      ],
      "execution_count": null,
      "outputs": []
    },
    {
      "cell_type": "code",
      "metadata": {
        "colab": {
          "base_uri": "https://localhost:8080/"
        },
        "id": "lLJAfEzJ0kmh",
        "outputId": "363e160a-fcad-4e15-ab79-542af4c3c065"
      },
      "source": [
        "from google.colab import drive\n",
        "drive.mount('/content/drive')"
      ],
      "execution_count": null,
      "outputs": [
        {
          "output_type": "stream",
          "name": "stdout",
          "text": [
            "Mounted at /content/drive\n"
          ]
        }
      ]
    },
    {
      "cell_type": "code",
      "metadata": {
        "id": "_bozKwBwSZ6s"
      },
      "source": [
        "pd.set_option('display.max_rows', None)\n",
        "pd.set_option('display.max_columns', None)"
      ],
      "execution_count": null,
      "outputs": []
    },
    {
      "cell_type": "code",
      "metadata": {
        "id": "JVY9nlYDV7nO"
      },
      "source": [
        "#NISHAT DATA LOAD\n",
        "df = pd.read_csv('/content/drive/MyDrive/data/data.csv')"
      ],
      "execution_count": null,
      "outputs": []
    },
    {
      "cell_type": "markdown",
      "metadata": {
        "id": "vZ3dFhZQSshz"
      },
      "source": [
        "# **1. DATA UNDERSTANDING** "
      ]
    },
    {
      "cell_type": "markdown",
      "metadata": {
        "id": "xSy1ifRLNMUW"
      },
      "source": [
        "Before creating visualisations to explain the data, it is important to familiarise oneself with the background of the data itself, and understand how many NULLs, Duplicates and Missing values there are within the dataset whilst understanding the descriptive statistics and value types.\n",
        "\n",
        "This can aid in creating meaningful visualisations within the EDA process, and hence aid in the selection of the features later on."
      ]
    },
    {
      "cell_type": "code",
      "metadata": {
        "colab": {
          "base_uri": "https://localhost:8080/"
        },
        "id": "zTpp2Xetz46e",
        "outputId": "1804ae28-d217-4ba2-86e7-1113ad406f09"
      },
      "source": [
        "#TOTAL ROWS AND COLUMNS\n",
        "n_songs, n_attributes = df.shape\n",
        "print('Total Songs: ',n_songs)\n",
        "print('Total Attributes: ',n_attributes)"
      ],
      "execution_count": null,
      "outputs": [
        {
          "output_type": "stream",
          "name": "stdout",
          "text": [
            "Total Songs:  2017\n",
            "Total Attributes:  17\n"
          ]
        }
      ]
    },
    {
      "cell_type": "markdown",
      "metadata": {
        "id": "pahPYijW6-xr"
      },
      "source": [
        "\n",
        "\n",
        "> There are in total of 2017 rows within the Spotify dataset, and since it has more than 1k rows, it is deemed **suitable** for our deep learning project, since it was advised to have a minimum of 1k+ records. Since there are 17 columns within this dataset, it is necessary to conduct a more through research on its contents and data types in order to aid with the feature selection process.\n",
        "\n",
        "\n",
        "\n",
        "\n",
        "\n"
      ]
    },
    {
      "cell_type": "code",
      "metadata": {
        "colab": {
          "base_uri": "https://localhost:8080/"
        },
        "id": "333F6qAH1UYA",
        "outputId": "8f086782-168d-4c15-b18f-3576652b3548"
      },
      "source": [
        "#DATATYPES OF THE VARIABLES PRESENT\n",
        "df.info()"
      ],
      "execution_count": null,
      "outputs": [
        {
          "output_type": "stream",
          "name": "stdout",
          "text": [
            "<class 'pandas.core.frame.DataFrame'>\n",
            "RangeIndex: 2017 entries, 0 to 2016\n",
            "Data columns (total 17 columns):\n",
            " #   Column            Non-Null Count  Dtype  \n",
            "---  ------            --------------  -----  \n",
            " 0   Unnamed: 0        2017 non-null   int64  \n",
            " 1   acousticness      2017 non-null   float64\n",
            " 2   danceability      2017 non-null   float64\n",
            " 3   duration_ms       2017 non-null   int64  \n",
            " 4   energy            2017 non-null   float64\n",
            " 5   instrumentalness  2017 non-null   float64\n",
            " 6   key               2017 non-null   int64  \n",
            " 7   liveness          2017 non-null   float64\n",
            " 8   loudness          2017 non-null   float64\n",
            " 9   mode              2017 non-null   int64  \n",
            " 10  speechiness       2017 non-null   float64\n",
            " 11  tempo             2017 non-null   float64\n",
            " 12  time_signature    2017 non-null   float64\n",
            " 13  valence           2017 non-null   float64\n",
            " 14  target            2017 non-null   int64  \n",
            " 15  song_title        2017 non-null   object \n",
            " 16  artist            2017 non-null   object \n",
            "dtypes: float64(10), int64(5), object(2)\n",
            "memory usage: 268.0+ KB\n"
          ]
        }
      ]
    },
    {
      "cell_type": "markdown",
      "metadata": {
        "id": "kJoTGn9VSn2c"
      },
      "source": [
        "\n",
        "\n",
        "> Within this dataset, there are more numerical variables than string variables, as observed with 10 float variables, and 5 int variable. This means that we can study the correlation of these numerical variables against each the target variable, and study the dataset and its relationships further.\n",
        "\n"
      ]
    },
    {
      "cell_type": "markdown",
      "metadata": {
        "id": "lHLn24ULUA7M"
      },
      "source": [
        "\n",
        "\n",
        "> Column named **Unnamed: 0** needs to be taken a deeper look due to its ambigious nature.\n",
        "\n"
      ]
    },
    {
      "cell_type": "code",
      "metadata": {
        "colab": {
          "base_uri": "https://localhost:8080/",
          "height": 309
        },
        "id": "zrmegZz1xVla",
        "outputId": "5c83072e-b73e-4500-b3fe-7b2ce6ecbf7e"
      },
      "source": [
        "#DISPLAY TOP 5 ROWS FROM DATASET\n",
        "df.head(5) "
      ],
      "execution_count": null,
      "outputs": [
        {
          "output_type": "execute_result",
          "data": {
            "text/html": [
              "<div>\n",
              "<style scoped>\n",
              "    .dataframe tbody tr th:only-of-type {\n",
              "        vertical-align: middle;\n",
              "    }\n",
              "\n",
              "    .dataframe tbody tr th {\n",
              "        vertical-align: top;\n",
              "    }\n",
              "\n",
              "    .dataframe thead th {\n",
              "        text-align: right;\n",
              "    }\n",
              "</style>\n",
              "<table border=\"1\" class=\"dataframe\">\n",
              "  <thead>\n",
              "    <tr style=\"text-align: right;\">\n",
              "      <th></th>\n",
              "      <th>Unnamed: 0</th>\n",
              "      <th>acousticness</th>\n",
              "      <th>danceability</th>\n",
              "      <th>duration_ms</th>\n",
              "      <th>energy</th>\n",
              "      <th>instrumentalness</th>\n",
              "      <th>key</th>\n",
              "      <th>liveness</th>\n",
              "      <th>loudness</th>\n",
              "      <th>mode</th>\n",
              "      <th>speechiness</th>\n",
              "      <th>tempo</th>\n",
              "      <th>time_signature</th>\n",
              "      <th>valence</th>\n",
              "      <th>target</th>\n",
              "      <th>song_title</th>\n",
              "      <th>artist</th>\n",
              "    </tr>\n",
              "  </thead>\n",
              "  <tbody>\n",
              "    <tr>\n",
              "      <th>0</th>\n",
              "      <td>0</td>\n",
              "      <td>0.0102</td>\n",
              "      <td>0.833</td>\n",
              "      <td>204600</td>\n",
              "      <td>0.434</td>\n",
              "      <td>0.021900</td>\n",
              "      <td>2</td>\n",
              "      <td>0.1650</td>\n",
              "      <td>-8.795</td>\n",
              "      <td>1</td>\n",
              "      <td>0.4310</td>\n",
              "      <td>150.062</td>\n",
              "      <td>4.0</td>\n",
              "      <td>0.286</td>\n",
              "      <td>1</td>\n",
              "      <td>Mask Off</td>\n",
              "      <td>Future</td>\n",
              "    </tr>\n",
              "    <tr>\n",
              "      <th>1</th>\n",
              "      <td>1</td>\n",
              "      <td>0.1990</td>\n",
              "      <td>0.743</td>\n",
              "      <td>326933</td>\n",
              "      <td>0.359</td>\n",
              "      <td>0.006110</td>\n",
              "      <td>1</td>\n",
              "      <td>0.1370</td>\n",
              "      <td>-10.401</td>\n",
              "      <td>1</td>\n",
              "      <td>0.0794</td>\n",
              "      <td>160.083</td>\n",
              "      <td>4.0</td>\n",
              "      <td>0.588</td>\n",
              "      <td>1</td>\n",
              "      <td>Redbone</td>\n",
              "      <td>Childish Gambino</td>\n",
              "    </tr>\n",
              "    <tr>\n",
              "      <th>2</th>\n",
              "      <td>2</td>\n",
              "      <td>0.0344</td>\n",
              "      <td>0.838</td>\n",
              "      <td>185707</td>\n",
              "      <td>0.412</td>\n",
              "      <td>0.000234</td>\n",
              "      <td>2</td>\n",
              "      <td>0.1590</td>\n",
              "      <td>-7.148</td>\n",
              "      <td>1</td>\n",
              "      <td>0.2890</td>\n",
              "      <td>75.044</td>\n",
              "      <td>4.0</td>\n",
              "      <td>0.173</td>\n",
              "      <td>1</td>\n",
              "      <td>Xanny Family</td>\n",
              "      <td>Future</td>\n",
              "    </tr>\n",
              "    <tr>\n",
              "      <th>3</th>\n",
              "      <td>3</td>\n",
              "      <td>0.6040</td>\n",
              "      <td>0.494</td>\n",
              "      <td>199413</td>\n",
              "      <td>0.338</td>\n",
              "      <td>0.510000</td>\n",
              "      <td>5</td>\n",
              "      <td>0.0922</td>\n",
              "      <td>-15.236</td>\n",
              "      <td>1</td>\n",
              "      <td>0.0261</td>\n",
              "      <td>86.468</td>\n",
              "      <td>4.0</td>\n",
              "      <td>0.230</td>\n",
              "      <td>1</td>\n",
              "      <td>Master Of None</td>\n",
              "      <td>Beach House</td>\n",
              "    </tr>\n",
              "    <tr>\n",
              "      <th>4</th>\n",
              "      <td>4</td>\n",
              "      <td>0.1800</td>\n",
              "      <td>0.678</td>\n",
              "      <td>392893</td>\n",
              "      <td>0.561</td>\n",
              "      <td>0.512000</td>\n",
              "      <td>5</td>\n",
              "      <td>0.4390</td>\n",
              "      <td>-11.648</td>\n",
              "      <td>0</td>\n",
              "      <td>0.0694</td>\n",
              "      <td>174.004</td>\n",
              "      <td>4.0</td>\n",
              "      <td>0.904</td>\n",
              "      <td>1</td>\n",
              "      <td>Parallel Lines</td>\n",
              "      <td>Junior Boys</td>\n",
              "    </tr>\n",
              "  </tbody>\n",
              "</table>\n",
              "</div>"
            ],
            "text/plain": [
              "   Unnamed: 0  acousticness  danceability  duration_ms  energy  \\\n",
              "0           0        0.0102         0.833       204600   0.434   \n",
              "1           1        0.1990         0.743       326933   0.359   \n",
              "2           2        0.0344         0.838       185707   0.412   \n",
              "3           3        0.6040         0.494       199413   0.338   \n",
              "4           4        0.1800         0.678       392893   0.561   \n",
              "\n",
              "   instrumentalness  key  liveness  loudness  mode  speechiness    tempo  \\\n",
              "0          0.021900    2    0.1650    -8.795     1       0.4310  150.062   \n",
              "1          0.006110    1    0.1370   -10.401     1       0.0794  160.083   \n",
              "2          0.000234    2    0.1590    -7.148     1       0.2890   75.044   \n",
              "3          0.510000    5    0.0922   -15.236     1       0.0261   86.468   \n",
              "4          0.512000    5    0.4390   -11.648     0       0.0694  174.004   \n",
              "\n",
              "   time_signature  valence  target      song_title            artist  \n",
              "0             4.0    0.286       1        Mask Off            Future  \n",
              "1             4.0    0.588       1         Redbone  Childish Gambino  \n",
              "2             4.0    0.173       1    Xanny Family            Future  \n",
              "3             4.0    0.230       1  Master Of None       Beach House  \n",
              "4             4.0    0.904       1  Parallel Lines       Junior Boys  "
            ]
          },
          "metadata": {},
          "execution_count": 10
        }
      ]
    },
    {
      "cell_type": "markdown",
      "metadata": {
        "id": "TwE4QYUWhfAL"
      },
      "source": [
        "## **Data/Column Description**\n",
        "\n",
        "\n",
        "> Looking into the columns more in depth can aid us in understanding the dataset further. Looking more into the resources provided by the author of the dataset can further aid in this understanding. Below is the in-depth description of the columns.\n",
        "\n"
      ]
    },
    {
      "cell_type": "markdown",
      "metadata": {
        "id": "aEmur5PORYue"
      },
      "source": [
        "\n",
        "\n",
        "1.   **Unnamed: 0** : Column labeling the rows from a chronological order. \n",
        "2.   **acousticness** : Column having values from 0.0 to 1.0  indicating whether or not the track is acoustic. *The number 1.0 denotes a high level of certainty that the track is acoustic.*\n",
        "3.   **danceability** : Column referring to how ideal a track is for dancing based on a number of factors such as pace, rhythm stability, beat strength, and general regularity. *In this dataset, the least danceable value is 0.0, while the most danceable value is 1.0.*\n",
        "4.   **duration_ms** : Column displaying the track's duration in milliseconds.\n",
        "5.   **energy** : A subjective measure of intensity and activity that ranges from 0.0 to 1.0. Dynamic range, perceived loudness, timbre, onset rate, and general entropy are all perceptual characteristics that contribute to this property. According to the author of the dataset , a typical energetic songs have a rapid, loud, and boisterous vibe to them. Some examples given by the author is death metal having a high energy level, coming at 1.0, while a chill song such as lofi tunes would score a low energy form, nearing the 0s. \n",
        "6.   **instrumentalness** : Determines whether a track has no vocal tracks. The author has considered  the noises \"ooh\" and \"aah\" to be instrumental, and only explicit tracks containing spoken words e.g rap is considered to be a vocal track and not an instrumental one. *The closer the instrumental-ness number gets to 1.0, the more likely the track is devoid of vocals. Instrumental recordings are represented by values over 0.5, but as the value approaches 1.0, confidence increases.*  \n",
        "7.   **key** : Depiction of the track's key. Pitch Class notation is used to translate integers to pitches. Example given by author: E.g. 0 = C, 1 = C♯/D♭, 2 = D etc.\n",
        "8.   **liveness** : Depicts the existence of an audience within the track. A higher liveness score indicates that the track was most likely performed live. *If the number is more than 0.8, the music is almost certainly live.*\n",
        "9.   **loudness** : The loudness of the songs is depicting in this column in decibles (dB). Author mentions that this loudness is averaged accoss the track, and mentions that it can be used to compare the loudness acorss the different tracks. It was chosen due to it being the \"main psychological correlation of physical strength\", also known as amplitude.* The column ranges -60 to 0 dB.*\n",
        "10.  **mode** : The sort of scale from which a track's melodic material is generated is indicated by the track's modality (major or minor). *The number 1 represents the major, whereas the number 0 represents the minor.*\n",
        "11.  **speechiness** : Depicts the presence of spoken words within track. The more exclusively speech-like the recording (e.g. talk show, audio book, poetry), the closer to 1.0 the attribute value. The author has given some additional insights, mentioning that values above 0.66 describe tracks that are probably made entirely of spoken words. Values between 0.33 and 0.66 describe tracks that may contain both music and speech, either in sections or layered, including such cases as rap music. Values below 0.33 most likely represent music and other non-speech-like tracks.\n",
        "12.  **tempo** : Column depicting the estimated pace of the track in beats per minute (BPM). Author has defined tempo, or the speed or pace of a composition, to be determined by the average beat duration in musical terms.\n",
        "13.  **time_signature** : A track's projected total time signature. The time signature (meter) has been defined to be a musical notation that specifies the number of beats in each bar (or measure).\n",
        "14.  **valence** : Column depicting a scale ranging from 0.0 to 1.0 that describes a track's musical positivity. Tracks with a high valence sound more positive, whereas tracks with a low valence sound more negative.\n",
        "15.  **target** : Column depicting the target variable and explaining the likeability of the track. \"1\" is songs liked, and \"0\" is the songs disliked.\n",
        "16.  **song_title** : Column depicting the song title of the tracks\n",
        "17.  **artist** : Column depicting the song's artist of the tracks\n",
        "\n",
        "[**Source**](https://opendatascience.com/a-machine-learning-deep-dive-into-my-spotify-data/)\n"
      ]
    },
    {
      "cell_type": "markdown",
      "metadata": {
        "id": "r1QnTUacifWI"
      },
      "source": [
        "\n",
        "> From the data understanding, the first column can be seen as an anomaly here **[Unnamed: 0]**, since it does not provide any viable information for either the EDA process, or the model building process. Hence, it will be dropped. \n",
        "\n"
      ]
    },
    {
      "cell_type": "code",
      "metadata": {
        "colab": {
          "base_uri": "https://localhost:8080/",
          "height": 292
        },
        "id": "ETKoBmSyjmTd",
        "outputId": "8841d80b-b696-405b-9752-9f5bb38b5dc6"
      },
      "source": [
        "#DROP [ UNNAMED: 0 ] FROM THE DATASET\n",
        "df.drop('Unnamed: 0', axis=1, inplace=True)\n",
        "df.head()"
      ],
      "execution_count": null,
      "outputs": [
        {
          "output_type": "execute_result",
          "data": {
            "text/html": [
              "<div>\n",
              "<style scoped>\n",
              "    .dataframe tbody tr th:only-of-type {\n",
              "        vertical-align: middle;\n",
              "    }\n",
              "\n",
              "    .dataframe tbody tr th {\n",
              "        vertical-align: top;\n",
              "    }\n",
              "\n",
              "    .dataframe thead th {\n",
              "        text-align: right;\n",
              "    }\n",
              "</style>\n",
              "<table border=\"1\" class=\"dataframe\">\n",
              "  <thead>\n",
              "    <tr style=\"text-align: right;\">\n",
              "      <th></th>\n",
              "      <th>acousticness</th>\n",
              "      <th>danceability</th>\n",
              "      <th>duration_ms</th>\n",
              "      <th>energy</th>\n",
              "      <th>instrumentalness</th>\n",
              "      <th>key</th>\n",
              "      <th>liveness</th>\n",
              "      <th>loudness</th>\n",
              "      <th>mode</th>\n",
              "      <th>speechiness</th>\n",
              "      <th>tempo</th>\n",
              "      <th>time_signature</th>\n",
              "      <th>valence</th>\n",
              "      <th>target</th>\n",
              "      <th>song_title</th>\n",
              "      <th>artist</th>\n",
              "    </tr>\n",
              "  </thead>\n",
              "  <tbody>\n",
              "    <tr>\n",
              "      <th>0</th>\n",
              "      <td>0.0102</td>\n",
              "      <td>0.833</td>\n",
              "      <td>204600</td>\n",
              "      <td>0.434</td>\n",
              "      <td>0.021900</td>\n",
              "      <td>2</td>\n",
              "      <td>0.1650</td>\n",
              "      <td>-8.795</td>\n",
              "      <td>1</td>\n",
              "      <td>0.4310</td>\n",
              "      <td>150.062</td>\n",
              "      <td>4.0</td>\n",
              "      <td>0.286</td>\n",
              "      <td>1</td>\n",
              "      <td>Mask Off</td>\n",
              "      <td>Future</td>\n",
              "    </tr>\n",
              "    <tr>\n",
              "      <th>1</th>\n",
              "      <td>0.1990</td>\n",
              "      <td>0.743</td>\n",
              "      <td>326933</td>\n",
              "      <td>0.359</td>\n",
              "      <td>0.006110</td>\n",
              "      <td>1</td>\n",
              "      <td>0.1370</td>\n",
              "      <td>-10.401</td>\n",
              "      <td>1</td>\n",
              "      <td>0.0794</td>\n",
              "      <td>160.083</td>\n",
              "      <td>4.0</td>\n",
              "      <td>0.588</td>\n",
              "      <td>1</td>\n",
              "      <td>Redbone</td>\n",
              "      <td>Childish Gambino</td>\n",
              "    </tr>\n",
              "    <tr>\n",
              "      <th>2</th>\n",
              "      <td>0.0344</td>\n",
              "      <td>0.838</td>\n",
              "      <td>185707</td>\n",
              "      <td>0.412</td>\n",
              "      <td>0.000234</td>\n",
              "      <td>2</td>\n",
              "      <td>0.1590</td>\n",
              "      <td>-7.148</td>\n",
              "      <td>1</td>\n",
              "      <td>0.2890</td>\n",
              "      <td>75.044</td>\n",
              "      <td>4.0</td>\n",
              "      <td>0.173</td>\n",
              "      <td>1</td>\n",
              "      <td>Xanny Family</td>\n",
              "      <td>Future</td>\n",
              "    </tr>\n",
              "    <tr>\n",
              "      <th>3</th>\n",
              "      <td>0.6040</td>\n",
              "      <td>0.494</td>\n",
              "      <td>199413</td>\n",
              "      <td>0.338</td>\n",
              "      <td>0.510000</td>\n",
              "      <td>5</td>\n",
              "      <td>0.0922</td>\n",
              "      <td>-15.236</td>\n",
              "      <td>1</td>\n",
              "      <td>0.0261</td>\n",
              "      <td>86.468</td>\n",
              "      <td>4.0</td>\n",
              "      <td>0.230</td>\n",
              "      <td>1</td>\n",
              "      <td>Master Of None</td>\n",
              "      <td>Beach House</td>\n",
              "    </tr>\n",
              "    <tr>\n",
              "      <th>4</th>\n",
              "      <td>0.1800</td>\n",
              "      <td>0.678</td>\n",
              "      <td>392893</td>\n",
              "      <td>0.561</td>\n",
              "      <td>0.512000</td>\n",
              "      <td>5</td>\n",
              "      <td>0.4390</td>\n",
              "      <td>-11.648</td>\n",
              "      <td>0</td>\n",
              "      <td>0.0694</td>\n",
              "      <td>174.004</td>\n",
              "      <td>4.0</td>\n",
              "      <td>0.904</td>\n",
              "      <td>1</td>\n",
              "      <td>Parallel Lines</td>\n",
              "      <td>Junior Boys</td>\n",
              "    </tr>\n",
              "  </tbody>\n",
              "</table>\n",
              "</div>"
            ],
            "text/plain": [
              "   acousticness  danceability  duration_ms  energy  instrumentalness  key  \\\n",
              "0        0.0102         0.833       204600   0.434          0.021900    2   \n",
              "1        0.1990         0.743       326933   0.359          0.006110    1   \n",
              "2        0.0344         0.838       185707   0.412          0.000234    2   \n",
              "3        0.6040         0.494       199413   0.338          0.510000    5   \n",
              "4        0.1800         0.678       392893   0.561          0.512000    5   \n",
              "\n",
              "   liveness  loudness  mode  speechiness    tempo  time_signature  valence  \\\n",
              "0    0.1650    -8.795     1       0.4310  150.062             4.0    0.286   \n",
              "1    0.1370   -10.401     1       0.0794  160.083             4.0    0.588   \n",
              "2    0.1590    -7.148     1       0.2890   75.044             4.0    0.173   \n",
              "3    0.0922   -15.236     1       0.0261   86.468             4.0    0.230   \n",
              "4    0.4390   -11.648     0       0.0694  174.004             4.0    0.904   \n",
              "\n",
              "   target      song_title            artist  \n",
              "0       1        Mask Off            Future  \n",
              "1       1         Redbone  Childish Gambino  \n",
              "2       1    Xanny Family            Future  \n",
              "3       1  Master Of None       Beach House  \n",
              "4       1  Parallel Lines       Junior Boys  "
            ]
          },
          "metadata": {},
          "execution_count": 11
        }
      ]
    },
    {
      "cell_type": "code",
      "metadata": {
        "colab": {
          "base_uri": "https://localhost:8080/"
        },
        "id": "c-O4vvpekdxr",
        "outputId": "d9aba258-14e7-4b56-b2c4-766c0c6d14eb"
      },
      "source": [
        "#CHECK THE UPDATED DATASET\n",
        "n_songs, n_attributes = df.shape\n",
        "print('Total Songs: ',n_songs)\n",
        "print('[UPDATED] Total Attributes: ',n_attributes)"
      ],
      "execution_count": null,
      "outputs": [
        {
          "output_type": "stream",
          "name": "stdout",
          "text": [
            "Total Songs:  2017\n",
            "[UPDATED] Total Attributes:  16\n"
          ]
        }
      ]
    },
    {
      "cell_type": "markdown",
      "metadata": {
        "id": "Fan2jKeals5G"
      },
      "source": [
        "## **Checking for NULL & Duplicate values**"
      ]
    },
    {
      "cell_type": "markdown",
      "metadata": {
        "id": "Jf-T738Ml7MR"
      },
      "source": [
        "\n",
        "NULL values, if found, should be handled since this can decrease the predictive capability of the classifiers. \n",
        "\n",
        ">According to .info() there was no NULL values present, however we can double-confirm it below.\n",
        "\n",
        "**Link:**\n",
        "https://www.freecodecamp.org/news/the-penalty-of-missing-values-in-data-science-91b756f95a32/"
      ]
    },
    {
      "cell_type": "code",
      "metadata": {
        "colab": {
          "base_uri": "https://localhost:8080/"
        },
        "id": "ydfmRAMwlsOw",
        "outputId": "ebb517fd-63aa-43e0-dad0-df7c11bcbdd2"
      },
      "source": [
        "#DISPLAYS HOW MANY NULL VALUES THERE ARE WITHIN DATASET\n",
        "df.isnull().sum()"
      ],
      "execution_count": null,
      "outputs": [
        {
          "output_type": "execute_result",
          "data": {
            "text/plain": [
              "acousticness        0\n",
              "danceability        0\n",
              "duration_ms         0\n",
              "energy              0\n",
              "instrumentalness    0\n",
              "key                 0\n",
              "liveness            0\n",
              "loudness            0\n",
              "mode                0\n",
              "speechiness         0\n",
              "tempo               0\n",
              "time_signature      0\n",
              "valence             0\n",
              "target              0\n",
              "song_title          0\n",
              "artist              0\n",
              "dtype: int64"
            ]
          },
          "metadata": {},
          "execution_count": 13
        }
      ]
    },
    {
      "cell_type": "markdown",
      "metadata": {
        "id": "dES_J51BnSxM"
      },
      "source": [
        "\n",
        "\n",
        "> It has been confirmed that there are no missing values within this dataset, and thus implementation of any kind will not take place. \n",
        "\n"
      ]
    },
    {
      "cell_type": "markdown",
      "metadata": {
        "id": "gQDsIHgonwyQ"
      },
      "source": [
        "Duplicate values are removed since they can cause overfitting and skew the results. Hence, it is important to see how many duplicate values there are within this dataset. \n",
        "\n",
        ">This will be studied in two parts: (1) duplicates considering all of the columns and (2) duplicates considering song_title column, grouped by artist column. \n",
        "\n"
      ]
    },
    {
      "cell_type": "code",
      "metadata": {
        "colab": {
          "base_uri": "https://localhost:8080/",
          "height": 515
        },
        "id": "waBdN2kW5x6w",
        "outputId": "3ddc3534-ba96-4bda-a08d-2e8722d313e9"
      },
      "source": [
        "#DISPLAYS BOTH OF THE DUPLICATED VALUES\n",
        "df[df.duplicated(keep=False)]"
      ],
      "execution_count": null,
      "outputs": [
        {
          "output_type": "execute_result",
          "data": {
            "text/html": [
              "<div>\n",
              "<style scoped>\n",
              "    .dataframe tbody tr th:only-of-type {\n",
              "        vertical-align: middle;\n",
              "    }\n",
              "\n",
              "    .dataframe tbody tr th {\n",
              "        vertical-align: top;\n",
              "    }\n",
              "\n",
              "    .dataframe thead th {\n",
              "        text-align: right;\n",
              "    }\n",
              "</style>\n",
              "<table border=\"1\" class=\"dataframe\">\n",
              "  <thead>\n",
              "    <tr style=\"text-align: right;\">\n",
              "      <th></th>\n",
              "      <th>acousticness</th>\n",
              "      <th>danceability</th>\n",
              "      <th>duration_ms</th>\n",
              "      <th>energy</th>\n",
              "      <th>instrumentalness</th>\n",
              "      <th>key</th>\n",
              "      <th>liveness</th>\n",
              "      <th>loudness</th>\n",
              "      <th>mode</th>\n",
              "      <th>speechiness</th>\n",
              "      <th>tempo</th>\n",
              "      <th>time_signature</th>\n",
              "      <th>valence</th>\n",
              "      <th>target</th>\n",
              "      <th>song_title</th>\n",
              "      <th>artist</th>\n",
              "    </tr>\n",
              "  </thead>\n",
              "  <tbody>\n",
              "    <tr>\n",
              "      <th>148</th>\n",
              "      <td>0.096200</td>\n",
              "      <td>0.654</td>\n",
              "      <td>252095</td>\n",
              "      <td>0.292</td>\n",
              "      <td>0.003100</td>\n",
              "      <td>2</td>\n",
              "      <td>0.106</td>\n",
              "      <td>-12.977</td>\n",
              "      <td>1</td>\n",
              "      <td>0.4740</td>\n",
              "      <td>153.547</td>\n",
              "      <td>4.0</td>\n",
              "      <td>0.111</td>\n",
              "      <td>1</td>\n",
              "      <td>River</td>\n",
              "      <td>Ibeyi</td>\n",
              "    </tr>\n",
              "    <tr>\n",
              "      <th>172</th>\n",
              "      <td>0.024600</td>\n",
              "      <td>0.586</td>\n",
              "      <td>374133</td>\n",
              "      <td>0.806</td>\n",
              "      <td>0.000167</td>\n",
              "      <td>1</td>\n",
              "      <td>0.353</td>\n",
              "      <td>-9.542</td>\n",
              "      <td>1</td>\n",
              "      <td>0.0548</td>\n",
              "      <td>110.325</td>\n",
              "      <td>4.0</td>\n",
              "      <td>0.207</td>\n",
              "      <td>1</td>\n",
              "      <td>Her Fantasy</td>\n",
              "      <td>Matthew Dear</td>\n",
              "    </tr>\n",
              "    <tr>\n",
              "      <th>267</th>\n",
              "      <td>0.096200</td>\n",
              "      <td>0.654</td>\n",
              "      <td>252095</td>\n",
              "      <td>0.292</td>\n",
              "      <td>0.003100</td>\n",
              "      <td>2</td>\n",
              "      <td>0.106</td>\n",
              "      <td>-12.977</td>\n",
              "      <td>1</td>\n",
              "      <td>0.4740</td>\n",
              "      <td>153.547</td>\n",
              "      <td>4.0</td>\n",
              "      <td>0.111</td>\n",
              "      <td>1</td>\n",
              "      <td>River</td>\n",
              "      <td>Ibeyi</td>\n",
              "    </tr>\n",
              "    <tr>\n",
              "      <th>480</th>\n",
              "      <td>0.036900</td>\n",
              "      <td>0.448</td>\n",
              "      <td>258653</td>\n",
              "      <td>0.733</td>\n",
              "      <td>0.042500</td>\n",
              "      <td>3</td>\n",
              "      <td>0.169</td>\n",
              "      <td>-6.238</td>\n",
              "      <td>1</td>\n",
              "      <td>0.0292</td>\n",
              "      <td>142.008</td>\n",
              "      <td>4.0</td>\n",
              "      <td>0.404</td>\n",
              "      <td>1</td>\n",
              "      <td>Myth</td>\n",
              "      <td>Beach House</td>\n",
              "    </tr>\n",
              "    <tr>\n",
              "      <th>508</th>\n",
              "      <td>0.024600</td>\n",
              "      <td>0.586</td>\n",
              "      <td>374133</td>\n",
              "      <td>0.806</td>\n",
              "      <td>0.000167</td>\n",
              "      <td>1</td>\n",
              "      <td>0.353</td>\n",
              "      <td>-9.542</td>\n",
              "      <td>1</td>\n",
              "      <td>0.0548</td>\n",
              "      <td>110.325</td>\n",
              "      <td>4.0</td>\n",
              "      <td>0.207</td>\n",
              "      <td>1</td>\n",
              "      <td>Her Fantasy</td>\n",
              "      <td>Matthew Dear</td>\n",
              "    </tr>\n",
              "    <tr>\n",
              "      <th>714</th>\n",
              "      <td>0.000334</td>\n",
              "      <td>0.907</td>\n",
              "      <td>183581</td>\n",
              "      <td>0.616</td>\n",
              "      <td>0.425000</td>\n",
              "      <td>6</td>\n",
              "      <td>0.110</td>\n",
              "      <td>-7.073</td>\n",
              "      <td>0</td>\n",
              "      <td>0.0577</td>\n",
              "      <td>124.036</td>\n",
              "      <td>4.0</td>\n",
              "      <td>0.614</td>\n",
              "      <td>1</td>\n",
              "      <td>Jack</td>\n",
              "      <td>Breach</td>\n",
              "    </tr>\n",
              "    <tr>\n",
              "      <th>854</th>\n",
              "      <td>0.934000</td>\n",
              "      <td>0.440</td>\n",
              "      <td>254360</td>\n",
              "      <td>0.433</td>\n",
              "      <td>0.811000</td>\n",
              "      <td>2</td>\n",
              "      <td>0.273</td>\n",
              "      <td>-17.453</td>\n",
              "      <td>0</td>\n",
              "      <td>0.0412</td>\n",
              "      <td>79.952</td>\n",
              "      <td>4.0</td>\n",
              "      <td>0.217</td>\n",
              "      <td>1</td>\n",
              "      <td>Episode I - Duel of The Fates</td>\n",
              "      <td>John Williams</td>\n",
              "    </tr>\n",
              "    <tr>\n",
              "      <th>894</th>\n",
              "      <td>0.000334</td>\n",
              "      <td>0.907</td>\n",
              "      <td>183581</td>\n",
              "      <td>0.616</td>\n",
              "      <td>0.425000</td>\n",
              "      <td>6</td>\n",
              "      <td>0.110</td>\n",
              "      <td>-7.073</td>\n",
              "      <td>0</td>\n",
              "      <td>0.0577</td>\n",
              "      <td>124.036</td>\n",
              "      <td>4.0</td>\n",
              "      <td>0.614</td>\n",
              "      <td>1</td>\n",
              "      <td>Jack</td>\n",
              "      <td>Breach</td>\n",
              "    </tr>\n",
              "    <tr>\n",
              "      <th>927</th>\n",
              "      <td>0.934000</td>\n",
              "      <td>0.440</td>\n",
              "      <td>254360</td>\n",
              "      <td>0.433</td>\n",
              "      <td>0.811000</td>\n",
              "      <td>2</td>\n",
              "      <td>0.273</td>\n",
              "      <td>-17.453</td>\n",
              "      <td>0</td>\n",
              "      <td>0.0412</td>\n",
              "      <td>79.952</td>\n",
              "      <td>4.0</td>\n",
              "      <td>0.217</td>\n",
              "      <td>1</td>\n",
              "      <td>Episode I - Duel of The Fates</td>\n",
              "      <td>John Williams</td>\n",
              "    </tr>\n",
              "    <tr>\n",
              "      <th>981</th>\n",
              "      <td>0.036900</td>\n",
              "      <td>0.448</td>\n",
              "      <td>258653</td>\n",
              "      <td>0.733</td>\n",
              "      <td>0.042500</td>\n",
              "      <td>3</td>\n",
              "      <td>0.169</td>\n",
              "      <td>-6.238</td>\n",
              "      <td>1</td>\n",
              "      <td>0.0292</td>\n",
              "      <td>142.008</td>\n",
              "      <td>4.0</td>\n",
              "      <td>0.404</td>\n",
              "      <td>1</td>\n",
              "      <td>Myth</td>\n",
              "      <td>Beach House</td>\n",
              "    </tr>\n",
              "  </tbody>\n",
              "</table>\n",
              "</div>"
            ],
            "text/plain": [
              "     acousticness  danceability  duration_ms  energy  instrumentalness  key  \\\n",
              "148      0.096200         0.654       252095   0.292          0.003100    2   \n",
              "172      0.024600         0.586       374133   0.806          0.000167    1   \n",
              "267      0.096200         0.654       252095   0.292          0.003100    2   \n",
              "480      0.036900         0.448       258653   0.733          0.042500    3   \n",
              "508      0.024600         0.586       374133   0.806          0.000167    1   \n",
              "714      0.000334         0.907       183581   0.616          0.425000    6   \n",
              "854      0.934000         0.440       254360   0.433          0.811000    2   \n",
              "894      0.000334         0.907       183581   0.616          0.425000    6   \n",
              "927      0.934000         0.440       254360   0.433          0.811000    2   \n",
              "981      0.036900         0.448       258653   0.733          0.042500    3   \n",
              "\n",
              "     liveness  loudness  mode  speechiness    tempo  time_signature  valence  \\\n",
              "148     0.106   -12.977     1       0.4740  153.547             4.0    0.111   \n",
              "172     0.353    -9.542     1       0.0548  110.325             4.0    0.207   \n",
              "267     0.106   -12.977     1       0.4740  153.547             4.0    0.111   \n",
              "480     0.169    -6.238     1       0.0292  142.008             4.0    0.404   \n",
              "508     0.353    -9.542     1       0.0548  110.325             4.0    0.207   \n",
              "714     0.110    -7.073     0       0.0577  124.036             4.0    0.614   \n",
              "854     0.273   -17.453     0       0.0412   79.952             4.0    0.217   \n",
              "894     0.110    -7.073     0       0.0577  124.036             4.0    0.614   \n",
              "927     0.273   -17.453     0       0.0412   79.952             4.0    0.217   \n",
              "981     0.169    -6.238     1       0.0292  142.008             4.0    0.404   \n",
              "\n",
              "     target                     song_title         artist  \n",
              "148       1                          River          Ibeyi  \n",
              "172       1                    Her Fantasy   Matthew Dear  \n",
              "267       1                          River          Ibeyi  \n",
              "480       1                           Myth    Beach House  \n",
              "508       1                    Her Fantasy   Matthew Dear  \n",
              "714       1                           Jack         Breach  \n",
              "854       1  Episode I - Duel of The Fates  John Williams  \n",
              "894       1                           Jack         Breach  \n",
              "927       1  Episode I - Duel of The Fates  John Williams  \n",
              "981       1                           Myth    Beach House  "
            ]
          },
          "metadata": {},
          "execution_count": 14
        }
      ]
    },
    {
      "cell_type": "markdown",
      "metadata": {
        "id": "l8Ym-2af3kRG"
      },
      "source": [
        "\n",
        "\n",
        "\n",
        "> There are 5 rows which were duplicated in relation to the entire columns, and hence, the other 5 duplicated rows needs to be dropped accordingly. \n",
        "\n",
        "\n",
        "\n",
        "\n",
        "\n"
      ]
    },
    {
      "cell_type": "code",
      "metadata": {
        "id": "drGVcR5e1geO"
      },
      "source": [
        "to_drop = df[df.duplicated(keep='first')]"
      ],
      "execution_count": null,
      "outputs": []
    },
    {
      "cell_type": "code",
      "metadata": {
        "colab": {
          "base_uri": "https://localhost:8080/"
        },
        "id": "rThBprx1-aop",
        "outputId": "714e1e0e-31a1-4501-be5d-2d4dc873bb9c"
      },
      "source": [
        "#ENTER THE DROPPING CODE HERE\n",
        "df = df.drop_duplicates()\n",
        "print(\"DROPPED DUPLICATES: \\n\", to_drop)"
      ],
      "execution_count": null,
      "outputs": [
        {
          "output_type": "stream",
          "name": "stdout",
          "text": [
            "DROPPED DUPLICATES: \n",
            "      acousticness  danceability  duration_ms  energy  instrumentalness  key  \\\n",
            "267      0.096200         0.654       252095   0.292          0.003100    2   \n",
            "508      0.024600         0.586       374133   0.806          0.000167    1   \n",
            "894      0.000334         0.907       183581   0.616          0.425000    6   \n",
            "927      0.934000         0.440       254360   0.433          0.811000    2   \n",
            "981      0.036900         0.448       258653   0.733          0.042500    3   \n",
            "\n",
            "     liveness  loudness  mode  speechiness    tempo  time_signature  valence  \\\n",
            "267     0.106   -12.977     1       0.4740  153.547             4.0    0.111   \n",
            "508     0.353    -9.542     1       0.0548  110.325             4.0    0.207   \n",
            "894     0.110    -7.073     0       0.0577  124.036             4.0    0.614   \n",
            "927     0.273   -17.453     0       0.0412   79.952             4.0    0.217   \n",
            "981     0.169    -6.238     1       0.0292  142.008             4.0    0.404   \n",
            "\n",
            "     target                     song_title         artist  \n",
            "267       1                          River          Ibeyi  \n",
            "508       1                    Her Fantasy   Matthew Dear  \n",
            "894       1                           Jack         Breach  \n",
            "927       1  Episode I - Duel of The Fates  John Williams  \n",
            "981       1                           Myth    Beach House  \n"
          ]
        }
      ]
    },
    {
      "cell_type": "markdown",
      "metadata": {
        "id": "vu8A3xW44owU"
      },
      "source": [
        "\n",
        "\n",
        "> ***Running the code below, we can observe whether there are songs of the same title and artist.*** \n",
        "\n"
      ]
    },
    {
      "cell_type": "code",
      "metadata": {
        "colab": {
          "base_uri": "https://localhost:8080/",
          "height": 1000
        },
        "id": "w07Kdzqxp0_p",
        "outputId": "d6af57a3-9b7a-4823-f281-eec12a09ecd5"
      },
      "source": [
        "#SAME SONGS WITH SAME ARTIST\n",
        "df.groupby('artist')['song_title'].value_counts().sort_values(ascending=False).loc[lambda x : x>1].to_frame()"
      ],
      "execution_count": null,
      "outputs": [
        {
          "output_type": "execute_result",
          "data": {
            "text/html": [
              "<div>\n",
              "<style scoped>\n",
              "    .dataframe tbody tr th:only-of-type {\n",
              "        vertical-align: middle;\n",
              "    }\n",
              "\n",
              "    .dataframe tbody tr th {\n",
              "        vertical-align: top;\n",
              "    }\n",
              "\n",
              "    .dataframe thead th {\n",
              "        text-align: right;\n",
              "    }\n",
              "</style>\n",
              "<table border=\"1\" class=\"dataframe\">\n",
              "  <thead>\n",
              "    <tr style=\"text-align: right;\">\n",
              "      <th></th>\n",
              "      <th></th>\n",
              "      <th>song_title</th>\n",
              "    </tr>\n",
              "    <tr>\n",
              "      <th>artist</th>\n",
              "      <th>song_title</th>\n",
              "      <th></th>\n",
              "    </tr>\n",
              "  </thead>\n",
              "  <tbody>\n",
              "    <tr>\n",
              "      <th>Hanson</th>\n",
              "      <th>MMMBop</th>\n",
              "      <td>2</td>\n",
              "    </tr>\n",
              "    <tr>\n",
              "      <th>A$AP Ferg</th>\n",
              "      <th>Shabba</th>\n",
              "      <td>2</td>\n",
              "    </tr>\n",
              "    <tr>\n",
              "      <th>Justice</th>\n",
              "      <th>Civilization</th>\n",
              "      <td>2</td>\n",
              "    </tr>\n",
              "    <tr>\n",
              "      <th>Leon Bridges</th>\n",
              "      <th>Coming Home</th>\n",
              "      <td>2</td>\n",
              "    </tr>\n",
              "    <tr>\n",
              "      <th>Logic</th>\n",
              "      <th>1-800-273-8255</th>\n",
              "      <td>2</td>\n",
              "    </tr>\n",
              "    <tr>\n",
              "      <th>Daft Punk</th>\n",
              "      <th>Get Lucky</th>\n",
              "      <td>2</td>\n",
              "    </tr>\n",
              "    <tr>\n",
              "      <th>Luis Fonsi</th>\n",
              "      <th>Despacito - Remix</th>\n",
              "      <td>2</td>\n",
              "    </tr>\n",
              "    <tr>\n",
              "      <th>Radiohead</th>\n",
              "      <th>The Daily Mail</th>\n",
              "      <td>2</td>\n",
              "    </tr>\n",
              "    <tr>\n",
              "      <th rowspan=\"2\" valign=\"top\">M83</th>\n",
              "      <th>Midnight City</th>\n",
              "      <td>2</td>\n",
              "    </tr>\n",
              "    <tr>\n",
              "      <th>Outro</th>\n",
              "      <td>2</td>\n",
              "    </tr>\n",
              "    <tr>\n",
              "      <th>Purity Ring</th>\n",
              "      <th>Obedear</th>\n",
              "      <td>2</td>\n",
              "    </tr>\n",
              "    <tr>\n",
              "      <th>Crystal Castles</th>\n",
              "      <th>Char</th>\n",
              "      <td>2</td>\n",
              "    </tr>\n",
              "    <tr>\n",
              "      <th>Backstreet Boys</th>\n",
              "      <th>I Want It That Way</th>\n",
              "      <td>2</td>\n",
              "    </tr>\n",
              "    <tr>\n",
              "      <th>Cream</th>\n",
              "      <th>Sunshine Of Your Love</th>\n",
              "      <td>2</td>\n",
              "    </tr>\n",
              "    <tr>\n",
              "      <th>Father</th>\n",
              "      <th>Look At Wrist</th>\n",
              "      <td>2</td>\n",
              "    </tr>\n",
              "    <tr>\n",
              "      <th>Jamie xx</th>\n",
              "      <th>I Know There's Gonna Be (Good Times)</th>\n",
              "      <td>2</td>\n",
              "    </tr>\n",
              "    <tr>\n",
              "      <th>Ben Pearce</th>\n",
              "      <th>What I Might Do - Club Mix</th>\n",
              "      <td>2</td>\n",
              "    </tr>\n",
              "    <tr>\n",
              "      <th>Frank Ocean</th>\n",
              "      <th>Pyramids</th>\n",
              "      <td>2</td>\n",
              "    </tr>\n",
              "    <tr>\n",
              "      <th>Frankey</th>\n",
              "      <th>Acamar</th>\n",
              "      <td>2</td>\n",
              "    </tr>\n",
              "    <tr>\n",
              "      <th>Future</th>\n",
              "      <th>Mask Off</th>\n",
              "      <td>2</td>\n",
              "    </tr>\n",
              "    <tr>\n",
              "      <th>Gayngs</th>\n",
              "      <th>The Gaudy Side of Town</th>\n",
              "      <td>2</td>\n",
              "    </tr>\n",
              "    <tr>\n",
              "      <th>How To Dress Well</th>\n",
              "      <th>Words I Don't Remember</th>\n",
              "      <td>2</td>\n",
              "    </tr>\n",
              "    <tr>\n",
              "      <th>Modest Mussorgsky</th>\n",
              "      <th>Night on Bald Mountain</th>\n",
              "      <td>2</td>\n",
              "    </tr>\n",
              "    <tr>\n",
              "      <th>Breach</th>\n",
              "      <th>Jack</th>\n",
              "      <td>2</td>\n",
              "    </tr>\n",
              "    <tr>\n",
              "      <th>CHVRCHES</th>\n",
              "      <th>Recover</th>\n",
              "      <td>2</td>\n",
              "    </tr>\n",
              "    <tr>\n",
              "      <th>A$AP Ferg</th>\n",
              "      <th>Work REMIX</th>\n",
              "      <td>2</td>\n",
              "    </tr>\n",
              "    <tr>\n",
              "      <th>Neon Indian</th>\n",
              "      <th>Annie</th>\n",
              "      <td>2</td>\n",
              "    </tr>\n",
              "    <tr>\n",
              "      <th>Kendrick Lamar</th>\n",
              "      <th>Swimming Pools (Drank) - Extended Version</th>\n",
              "      <td>2</td>\n",
              "    </tr>\n",
              "    <tr>\n",
              "      <th>*NSYNC</th>\n",
              "      <th>Tearin' up My Heart - Radio Edit</th>\n",
              "      <td>2</td>\n",
              "    </tr>\n",
              "    <tr>\n",
              "      <th>Drake</th>\n",
              "      <th>Hold On, We're Going Home</th>\n",
              "      <td>2</td>\n",
              "    </tr>\n",
              "  </tbody>\n",
              "</table>\n",
              "</div>"
            ],
            "text/plain": [
              "                                                             song_title\n",
              "artist            song_title                                           \n",
              "Hanson            MMMBop                                              2\n",
              "A$AP Ferg         Shabba                                              2\n",
              "Justice           Civilization                                        2\n",
              "Leon Bridges      Coming Home                                         2\n",
              "Logic             1-800-273-8255                                      2\n",
              "Daft Punk         Get Lucky                                           2\n",
              "Luis Fonsi        Despacito - Remix                                   2\n",
              "Radiohead         The Daily Mail                                      2\n",
              "M83               Midnight City                                       2\n",
              "                  Outro                                               2\n",
              "Purity Ring       Obedear                                             2\n",
              "Crystal Castles   Char                                                2\n",
              "Backstreet Boys   I Want It That Way                                  2\n",
              "Cream             Sunshine Of Your Love                               2\n",
              "Father            Look At Wrist                                       2\n",
              "Jamie xx          I Know There's Gonna Be (Good Times)                2\n",
              "Ben Pearce        What I Might Do - Club Mix                          2\n",
              "Frank Ocean       Pyramids                                            2\n",
              "Frankey           Acamar                                              2\n",
              "Future            Mask Off                                            2\n",
              "Gayngs            The Gaudy Side of Town                              2\n",
              "How To Dress Well Words I Don't Remember                              2\n",
              "Modest Mussorgsky Night on Bald Mountain                              2\n",
              "Breach            Jack                                                2\n",
              "CHVRCHES          Recover                                             2\n",
              "A$AP Ferg         Work REMIX                                          2\n",
              "Neon Indian       Annie                                               2\n",
              "Kendrick Lamar    Swimming Pools (Drank) - Extended Version           2\n",
              "*NSYNC            Tearin' up My Heart - Radio Edit                    2\n",
              "Drake             Hold On, We're Going Home                           2"
            ]
          },
          "metadata": {},
          "execution_count": 17
        }
      ]
    },
    {
      "cell_type": "markdown",
      "metadata": {
        "id": "q53aXMJU4O2k"
      },
      "source": [
        "\n",
        "In normal cases this would be removed as well, since it would skew our understanding of the data due to conflicting informations. However, in terms of music, there are some songs which might have the same title and artist, but different arrangements and hence, released as a different version. Due to this reason, the song might be the same, but due to its arrangements it can count as a different experience overall. \n",
        "\n",
        ">***Due to this, these rows would not be removed***.\n",
        "\n",
        "***Links***: \n",
        "1. https://rateyourmusic.com/discussion/music/artists-whove-released-two-or-more-versions-of-the-same-song/1/\n",
        "\n",
        "2. https://theafterword.co.uk/the-same-song-done-more-than-once-by-the-same-artist/\n",
        "\n",
        "\n",
        "\n",
        "\n"
      ]
    },
    {
      "cell_type": "markdown",
      "metadata": {
        "id": "RmbIXmTO5uGM"
      },
      "source": [
        "## **Checking the Unique Values**"
      ]
    },
    {
      "cell_type": "code",
      "metadata": {
        "colab": {
          "base_uri": "https://localhost:8080/",
          "height": 545
        },
        "id": "jXR_1m_Y5Ojr",
        "outputId": "4c60cf76-9f9f-48ca-f025-141451137c9d"
      },
      "source": [
        "#CHECKING THE OVERALL UNIQUE VALUES WITHIN DATASET\n",
        "dict = {}\n",
        "for i in list(df.columns):\n",
        "    dict[i]=df[i].value_counts().shape[0]\n",
        "pd.DataFrame(dict,index=['unique values']).T"
      ],
      "execution_count": null,
      "outputs": [
        {
          "output_type": "execute_result",
          "data": {
            "text/html": [
              "<div>\n",
              "<style scoped>\n",
              "    .dataframe tbody tr th:only-of-type {\n",
              "        vertical-align: middle;\n",
              "    }\n",
              "\n",
              "    .dataframe tbody tr th {\n",
              "        vertical-align: top;\n",
              "    }\n",
              "\n",
              "    .dataframe thead th {\n",
              "        text-align: right;\n",
              "    }\n",
              "</style>\n",
              "<table border=\"1\" class=\"dataframe\">\n",
              "  <thead>\n",
              "    <tr style=\"text-align: right;\">\n",
              "      <th></th>\n",
              "      <th>unique values</th>\n",
              "    </tr>\n",
              "  </thead>\n",
              "  <tbody>\n",
              "    <tr>\n",
              "      <th>acousticness</th>\n",
              "      <td>1394</td>\n",
              "    </tr>\n",
              "    <tr>\n",
              "      <th>danceability</th>\n",
              "      <td>632</td>\n",
              "    </tr>\n",
              "    <tr>\n",
              "      <th>duration_ms</th>\n",
              "      <td>1921</td>\n",
              "    </tr>\n",
              "    <tr>\n",
              "      <th>energy</th>\n",
              "      <td>719</td>\n",
              "    </tr>\n",
              "    <tr>\n",
              "      <th>instrumentalness</th>\n",
              "      <td>1107</td>\n",
              "    </tr>\n",
              "    <tr>\n",
              "      <th>key</th>\n",
              "      <td>12</td>\n",
              "    </tr>\n",
              "    <tr>\n",
              "      <th>liveness</th>\n",
              "      <td>793</td>\n",
              "    </tr>\n",
              "    <tr>\n",
              "      <th>loudness</th>\n",
              "      <td>1808</td>\n",
              "    </tr>\n",
              "    <tr>\n",
              "      <th>mode</th>\n",
              "      <td>2</td>\n",
              "    </tr>\n",
              "    <tr>\n",
              "      <th>speechiness</th>\n",
              "      <td>792</td>\n",
              "    </tr>\n",
              "    <tr>\n",
              "      <th>tempo</th>\n",
              "      <td>1919</td>\n",
              "    </tr>\n",
              "    <tr>\n",
              "      <th>time_signature</th>\n",
              "      <td>4</td>\n",
              "    </tr>\n",
              "    <tr>\n",
              "      <th>valence</th>\n",
              "      <td>853</td>\n",
              "    </tr>\n",
              "    <tr>\n",
              "      <th>target</th>\n",
              "      <td>2</td>\n",
              "    </tr>\n",
              "    <tr>\n",
              "      <th>song_title</th>\n",
              "      <td>1956</td>\n",
              "    </tr>\n",
              "    <tr>\n",
              "      <th>artist</th>\n",
              "      <td>1343</td>\n",
              "    </tr>\n",
              "  </tbody>\n",
              "</table>\n",
              "</div>"
            ],
            "text/plain": [
              "                  unique values\n",
              "acousticness               1394\n",
              "danceability                632\n",
              "duration_ms                1921\n",
              "energy                      719\n",
              "instrumentalness           1107\n",
              "key                          12\n",
              "liveness                    793\n",
              "loudness                   1808\n",
              "mode                          2\n",
              "speechiness                 792\n",
              "tempo                      1919\n",
              "time_signature                4\n",
              "valence                     853\n",
              "target                        2\n",
              "song_title                 1956\n",
              "artist                     1343"
            ]
          },
          "metadata": {},
          "execution_count": 18
        }
      ]
    },
    {
      "cell_type": "markdown",
      "metadata": {
        "id": "p7xWph4c5cK0"
      },
      "source": [
        "\n",
        "\n",
        ">**DERIVED FROM THE UNIQUE VALUES**\n",
        "\n",
        "\n",
        "\n",
        "*   There are in total of 1343 unique artists within this dataset.\n",
        "*   Out of which, 1956 are considered to be unique instances of the songs. It is to be noted that there can be the same song title but sung by different artists, and thus we should not assume that there are 1956 unique SONG TRACKS in this dataset, but merely which of the song titles are not repeated.\n",
        "*   The target is 2, confirming to us that it is a Binary variable.\n",
        "*   This dataset records to be 12 keys."
      ]
    },
    {
      "cell_type": "markdown",
      "metadata": {
        "id": "UvwcSrYFFXSl"
      },
      "source": [
        "## **Descriptive Statistics**"
      ]
    },
    {
      "cell_type": "code",
      "metadata": {
        "colab": {
          "base_uri": "https://localhost:8080/",
          "height": 317
        },
        "id": "Gvnyz5MX1fYP",
        "outputId": "a2ce9a68-398f-418c-edb0-8f2d9aec535e"
      },
      "source": [
        "#DATASET SUMMARY\n",
        "df.describe()"
      ],
      "execution_count": null,
      "outputs": [
        {
          "output_type": "execute_result",
          "data": {
            "text/html": [
              "<div>\n",
              "<style scoped>\n",
              "    .dataframe tbody tr th:only-of-type {\n",
              "        vertical-align: middle;\n",
              "    }\n",
              "\n",
              "    .dataframe tbody tr th {\n",
              "        vertical-align: top;\n",
              "    }\n",
              "\n",
              "    .dataframe thead th {\n",
              "        text-align: right;\n",
              "    }\n",
              "</style>\n",
              "<table border=\"1\" class=\"dataframe\">\n",
              "  <thead>\n",
              "    <tr style=\"text-align: right;\">\n",
              "      <th></th>\n",
              "      <th>acousticness</th>\n",
              "      <th>danceability</th>\n",
              "      <th>duration_ms</th>\n",
              "      <th>energy</th>\n",
              "      <th>instrumentalness</th>\n",
              "      <th>key</th>\n",
              "      <th>liveness</th>\n",
              "      <th>loudness</th>\n",
              "      <th>mode</th>\n",
              "      <th>speechiness</th>\n",
              "      <th>tempo</th>\n",
              "      <th>time_signature</th>\n",
              "      <th>valence</th>\n",
              "      <th>target</th>\n",
              "    </tr>\n",
              "  </thead>\n",
              "  <tbody>\n",
              "    <tr>\n",
              "      <th>count</th>\n",
              "      <td>2012.000000</td>\n",
              "      <td>2012.000000</td>\n",
              "      <td>2.012000e+03</td>\n",
              "      <td>2012.000000</td>\n",
              "      <td>2012.000000</td>\n",
              "      <td>2012.000000</td>\n",
              "      <td>2012.000000</td>\n",
              "      <td>2012.000000</td>\n",
              "      <td>2012.000000</td>\n",
              "      <td>2012.000000</td>\n",
              "      <td>2012.000000</td>\n",
              "      <td>2012.000000</td>\n",
              "      <td>2012.000000</td>\n",
              "      <td>2012.000000</td>\n",
              "    </tr>\n",
              "    <tr>\n",
              "      <th>mean</th>\n",
              "      <td>0.187513</td>\n",
              "      <td>0.618450</td>\n",
              "      <td>2.462608e+05</td>\n",
              "      <td>0.681840</td>\n",
              "      <td>0.132980</td>\n",
              "      <td>5.348907</td>\n",
              "      <td>0.190816</td>\n",
              "      <td>-7.076750</td>\n",
              "      <td>0.612326</td>\n",
              "      <td>0.092568</td>\n",
              "      <td>121.602351</td>\n",
              "      <td>3.968191</td>\n",
              "      <td>0.497278</td>\n",
              "      <td>0.504473</td>\n",
              "    </tr>\n",
              "    <tr>\n",
              "      <th>std</th>\n",
              "      <td>0.259691</td>\n",
              "      <td>0.161003</td>\n",
              "      <td>8.202146e+04</td>\n",
              "      <td>0.210255</td>\n",
              "      <td>0.272967</td>\n",
              "      <td>3.649559</td>\n",
              "      <td>0.155571</td>\n",
              "      <td>3.756502</td>\n",
              "      <td>0.487341</td>\n",
              "      <td>0.089615</td>\n",
              "      <td>26.687988</td>\n",
              "      <td>0.256166</td>\n",
              "      <td>0.247167</td>\n",
              "      <td>0.500104</td>\n",
              "    </tr>\n",
              "    <tr>\n",
              "      <th>min</th>\n",
              "      <td>0.000003</td>\n",
              "      <td>0.122000</td>\n",
              "      <td>1.604200e+04</td>\n",
              "      <td>0.014800</td>\n",
              "      <td>0.000000</td>\n",
              "      <td>0.000000</td>\n",
              "      <td>0.018800</td>\n",
              "      <td>-33.097000</td>\n",
              "      <td>0.000000</td>\n",
              "      <td>0.023100</td>\n",
              "      <td>47.859000</td>\n",
              "      <td>1.000000</td>\n",
              "      <td>0.034800</td>\n",
              "      <td>0.000000</td>\n",
              "    </tr>\n",
              "    <tr>\n",
              "      <th>25%</th>\n",
              "      <td>0.009590</td>\n",
              "      <td>0.514000</td>\n",
              "      <td>2.000045e+05</td>\n",
              "      <td>0.563750</td>\n",
              "      <td>0.000000</td>\n",
              "      <td>2.000000</td>\n",
              "      <td>0.092200</td>\n",
              "      <td>-8.392250</td>\n",
              "      <td>0.000000</td>\n",
              "      <td>0.037500</td>\n",
              "      <td>100.164000</td>\n",
              "      <td>4.000000</td>\n",
              "      <td>0.296000</td>\n",
              "      <td>0.000000</td>\n",
              "    </tr>\n",
              "    <tr>\n",
              "      <th>50%</th>\n",
              "      <td>0.063500</td>\n",
              "      <td>0.631000</td>\n",
              "      <td>2.291200e+05</td>\n",
              "      <td>0.715500</td>\n",
              "      <td>0.000074</td>\n",
              "      <td>6.000000</td>\n",
              "      <td>0.126500</td>\n",
              "      <td>-6.247500</td>\n",
              "      <td>1.000000</td>\n",
              "      <td>0.054900</td>\n",
              "      <td>121.407000</td>\n",
              "      <td>4.000000</td>\n",
              "      <td>0.493000</td>\n",
              "      <td>1.000000</td>\n",
              "    </tr>\n",
              "    <tr>\n",
              "      <th>75%</th>\n",
              "      <td>0.265000</td>\n",
              "      <td>0.738000</td>\n",
              "      <td>2.703565e+05</td>\n",
              "      <td>0.846000</td>\n",
              "      <td>0.053925</td>\n",
              "      <td>9.000000</td>\n",
              "      <td>0.246250</td>\n",
              "      <td>-4.744000</td>\n",
              "      <td>1.000000</td>\n",
              "      <td>0.108000</td>\n",
              "      <td>137.695250</td>\n",
              "      <td>4.000000</td>\n",
              "      <td>0.692000</td>\n",
              "      <td>1.000000</td>\n",
              "    </tr>\n",
              "    <tr>\n",
              "      <th>max</th>\n",
              "      <td>0.995000</td>\n",
              "      <td>0.984000</td>\n",
              "      <td>1.004627e+06</td>\n",
              "      <td>0.998000</td>\n",
              "      <td>0.976000</td>\n",
              "      <td>11.000000</td>\n",
              "      <td>0.969000</td>\n",
              "      <td>-0.307000</td>\n",
              "      <td>1.000000</td>\n",
              "      <td>0.816000</td>\n",
              "      <td>219.331000</td>\n",
              "      <td>5.000000</td>\n",
              "      <td>0.992000</td>\n",
              "      <td>1.000000</td>\n",
              "    </tr>\n",
              "  </tbody>\n",
              "</table>\n",
              "</div>"
            ],
            "text/plain": [
              "       acousticness  danceability   duration_ms       energy  \\\n",
              "count   2012.000000   2012.000000  2.012000e+03  2012.000000   \n",
              "mean       0.187513      0.618450  2.462608e+05     0.681840   \n",
              "std        0.259691      0.161003  8.202146e+04     0.210255   \n",
              "min        0.000003      0.122000  1.604200e+04     0.014800   \n",
              "25%        0.009590      0.514000  2.000045e+05     0.563750   \n",
              "50%        0.063500      0.631000  2.291200e+05     0.715500   \n",
              "75%        0.265000      0.738000  2.703565e+05     0.846000   \n",
              "max        0.995000      0.984000  1.004627e+06     0.998000   \n",
              "\n",
              "       instrumentalness          key     liveness     loudness         mode  \\\n",
              "count       2012.000000  2012.000000  2012.000000  2012.000000  2012.000000   \n",
              "mean           0.132980     5.348907     0.190816    -7.076750     0.612326   \n",
              "std            0.272967     3.649559     0.155571     3.756502     0.487341   \n",
              "min            0.000000     0.000000     0.018800   -33.097000     0.000000   \n",
              "25%            0.000000     2.000000     0.092200    -8.392250     0.000000   \n",
              "50%            0.000074     6.000000     0.126500    -6.247500     1.000000   \n",
              "75%            0.053925     9.000000     0.246250    -4.744000     1.000000   \n",
              "max            0.976000    11.000000     0.969000    -0.307000     1.000000   \n",
              "\n",
              "       speechiness        tempo  time_signature      valence       target  \n",
              "count  2012.000000  2012.000000     2012.000000  2012.000000  2012.000000  \n",
              "mean      0.092568   121.602351        3.968191     0.497278     0.504473  \n",
              "std       0.089615    26.687988        0.256166     0.247167     0.500104  \n",
              "min       0.023100    47.859000        1.000000     0.034800     0.000000  \n",
              "25%       0.037500   100.164000        4.000000     0.296000     0.000000  \n",
              "50%       0.054900   121.407000        4.000000     0.493000     1.000000  \n",
              "75%       0.108000   137.695250        4.000000     0.692000     1.000000  \n",
              "max       0.816000   219.331000        5.000000     0.992000     1.000000  "
            ]
          },
          "metadata": {},
          "execution_count": 19
        }
      ]
    },
    {
      "cell_type": "markdown",
      "metadata": {
        "id": "uX3Xvy7wFjCW"
      },
      "source": [
        "\n",
        "\n",
        "1.   instrumentals within the tracks happen to be low (mean = 0.13)  however, looking at the speechiness, it is certain that most of the tracks present contains music, considering the mean being 0.09, indicating low levels of speechiness. \n",
        "2.   tracks within dataset happen to not be acoustic on average\n",
        "3. the songs can be used for dancing, since the average rate of danceability happen to be 0.6.\n",
        "5. the mean key of the dataset = 5\n",
        "6. most of the song present are studio-based and are not live \n",
        "7.  the tempo for most songs average to be 121 BPM, which is the average BPM for most hit songs written [x](https://www.masterclass.com/articles/music-101-what-is-tempo-how-is-tempo-used-in-music#how-is-tempo-used-in-music)\n",
        "\n",
        "\n",
        "\n"
      ]
    },
    {
      "cell_type": "markdown",
      "metadata": {
        "id": "OvTXvWuEu5ft"
      },
      "source": [
        "# **2. EXPLORATORY DATA ANALYSIS (EDA)**"
      ]
    },
    {
      "cell_type": "markdown",
      "metadata": {
        "id": "wUClknpuNWlO"
      },
      "source": [
        "After the data's makeup was understood in the previous section, we can now make meaningful visualisations to further understand the background of the data itself. This can also aid us in understanding which features are most correlated to the target variable, and choose the necessary input variables.\n"
      ]
    },
    {
      "cell_type": "markdown",
      "metadata": {
        "id": "RAAiUCbp-hi-"
      },
      "source": [
        "## **Check Balanced-Imbalanced Dataset**\n",
        "\n",
        "1. Check the distribution of target label\n",
        "2. Check the proportion of target label and visualize it in pie chart"
      ]
    },
    {
      "cell_type": "code",
      "metadata": {
        "colab": {
          "base_uri": "https://localhost:8080/"
        },
        "id": "L6cmbbAN-mxT",
        "outputId": "e1deb7f4-7945-42bb-b2e3-e52a557f86ba"
      },
      "source": [
        "#Target Label Distribution\n",
        "print('Target Label Distribution \\n', df['target'].value_counts())"
      ],
      "execution_count": null,
      "outputs": [
        {
          "output_type": "stream",
          "name": "stdout",
          "text": [
            "Target Label Distribution \n",
            " 1    1015\n",
            "0     997\n",
            "Name: target, dtype: int64\n"
          ]
        }
      ]
    },
    {
      "cell_type": "code",
      "metadata": {
        "colab": {
          "base_uri": "https://localhost:8080/",
          "height": 324
        },
        "id": "jzo8iKM_-trq",
        "outputId": "9322d012-5bcf-4bae-8990-d09735334997"
      },
      "source": [
        "plt.figure(figsize=(5,5))\n",
        "label = df['target'].value_counts()\n",
        "plt.pie(label.values, labels=label.index, autopct= '%1.1f%%')\n",
        "plt.title('Target Label Distribution', fontsize=20)\n",
        "plt.show()"
      ],
      "execution_count": null,
      "outputs": [
        {
          "output_type": "display_data",
          "data": {
            "image/png": "[encoded data removed]",
            "text/plain": [
              "<Figure size 360x360 with 1 Axes>"
            ]
          },
          "metadata": {}
        }
      ]
    },
    {
      "cell_type": "markdown",
      "metadata": {
        "id": "Ebh2JylS_C_n"
      },
      "source": [
        "It is important to check the balance of target variable in order to have the good accuracy of the model. If the target variable is imbalanced then the model will get overfitted or underfitted. \n",
        "\n",
        ">In this dataset, the target variable is balanced, as we can see that the data with 0 value filled up 49.6% of the dataset, while 1 value filled up 50.4% of the dataset. "
      ]
    },
    {
      "cell_type": "markdown",
      "metadata": {
        "id": "u3et_BYjHmSm"
      },
      "source": [
        "## **Check distribution and outliers**"
      ]
    },
    {
      "cell_type": "markdown",
      "metadata": {
        "id": "pXUYifoVqQMM"
      },
      "source": [
        "In this visualization part we use histogram to illustrate the data distribution."
      ]
    },
    {
      "cell_type": "code",
      "metadata": {
        "colab": {
          "base_uri": "https://localhost:8080/",
          "height": 607
        },
        "id": "mzQ3-zKM4yur",
        "outputId": "d5dca0f5-6ecd-4f92-9f28-4cf91f9df939"
      },
      "source": [
        "p = df.hist(figsize = (10,10))"
      ],
      "execution_count": null,
      "outputs": [
        {
          "output_type": "display_data",
          "data": {
            "image/png": "[encoded data removed]",
            "text/plain": [
              "<Figure size 720x720 with 16 Axes>"
            ]
          },
          "metadata": {
            "needs_background": "light"
          }
        }
      ]
    },
    {
      "cell_type": "markdown",
      "metadata": {
        "id": "j0Y_r0CH9A0C"
      },
      "source": [
        ">As we can see that most of the variable is getting skewed and not normally distributed. For example, accousticness and duration_ms is right skewed, while energy and loudness is left skewed.\n",
        "\n",
        "We need to fix the skewness. As a result, with skewed data, the tail region may act as an outlier for the statistical model, and we know that outliers have a negative impact on model performance, particularly in regression-based models. There are statistical models that are resistant to outliers, such as Tree-based models, but this limits the number of models that may be tried. "
      ]
    },
    {
      "cell_type": "markdown",
      "metadata": {
        "id": "3P9aDuzEtoFI"
      },
      "source": [
        "**Check Outliers**\n",
        "\n",
        "\n",
        "*   If we check the outlier data by column, we can see more clearly that many columns have extreme outlier levels. \n",
        "*   but if we check for all columns we can only see the range for the data outlier distance in the duration_ms column, this is because the range in that column reaches hundreds of thousands of numbers. so in other columns that only have a range of decimal numbers even hundreds are not visible.\n",
        "*   after checking, many columns have extreme outliers, namely acousticness, danceability, duration_ms, energy, instrumentalness, liveness, loudness, speechiness, tempo columns.\n",
        "*  Because of the extreme and large number of outliers, we are not advised to delete it because an outlier observation is very likely to affect the data held. If the deletion or omission of outlier data is still enforced, it will significantly change the statistical equation and its conclusions.\n",
        "\n",
        "https://salsabilabasalamah.medium.com/cara-mengidentifikasi-dan-penanganan-data-outlier-d2fe16c6d62c\n",
        "\n",
        "\n",
        "\n"
      ]
    },
    {
      "cell_type": "code",
      "metadata": {
        "colab": {
          "base_uri": "https://localhost:8080/",
          "height": 283
        },
        "id": "9lgXEdy8CeHk",
        "outputId": "000e6bd2-78f9-4c8a-fe78-5e85794bf595"
      },
      "source": [
        "#check outliers overall\n",
        "#p = df_update.boxplot(figsize=(15,15))\n",
        "\n",
        "#Check per-feature\n",
        "df.boxplot(column='tempo')"
      ],
      "execution_count": null,
      "outputs": [
        {
          "output_type": "execute_result",
          "data": {
            "text/plain": [
              "<matplotlib.axes._subplots.AxesSubplot at 0x7f8c2b8e8390>"
            ]
          },
          "metadata": {},
          "execution_count": 23
        },
        {
          "output_type": "display_data",
          "data": {
            "image/png": "[encoded data removed]",
            "text/plain": [
              "<Figure size 432x288 with 1 Axes>"
            ]
          },
          "metadata": {
            "needs_background": "light"
          }
        }
      ]
    },
    {
      "cell_type": "code",
      "metadata": {
        "id": "EEmG7VLcCh2L"
      },
      "source": [
        "# Classifying data into numerical and categorical variables.\n",
        "data_numerical=df[['acousticness','danceability','duration_ms','energy','instrumentalness','liveness','loudness','speechiness','tempo','valence']]\n",
        "data_categorical=df[['key','mode','time_signature','target']]"
      ],
      "execution_count": null,
      "outputs": []
    },
    {
      "cell_type": "markdown",
      "metadata": {
        "id": "K-2XF89kC4lu"
      },
      "source": [
        "**Skewness and kurtosis**\n",
        "*   If the skewness is between -0.5 & 0.5, the data are nearly symmetrical.If the skewness is between -1 & -0.5 (negative skewed) or between 0.5 & 1(positive skewed), the data are slightly skewed.If the skewness is lower than -1 (negative skewed) or greater than 1 (positive skewed), the data are extremely skewed.\n",
        "*   Kurtosis is a statistical measure, whether the data is heavy-tailed or light-tailed in a normal distribution\n",
        "\n",
        "**Observation**\n",
        "\n",
        ">acousticness, durations_ms, instrumentalness, liveness, loudness, energy and speechiness are extremely skewed.\n",
        "\n",
        "https://medium.com/@atanudan/kurtosis-skew-function-in-pandas-aa63d72e20de\n"
      ]
    },
    {
      "cell_type": "code",
      "metadata": {
        "colab": {
          "base_uri": "https://localhost:8080/",
          "height": 359
        },
        "id": "CzVll3BfCpYM",
        "outputId": "641cdf33-7136-4747-f3c1-17df1e30beb7"
      },
      "source": [
        "# Skewness and kurtosis\n",
        "s_k=[]\n",
        "for i in data_numerical.columns:\n",
        "    s_k.append([i,data_numerical[i].skew(),data_numerical[i].kurt()])\n",
        "skew_kurt=pd.DataFrame(s_k,columns=['Columns','Skewness','Kurtosis'])\n",
        "skew_kurt"
      ],
      "execution_count": null,
      "outputs": [
        {
          "output_type": "execute_result",
          "data": {
            "text/html": [
              "<div>\n",
              "<style scoped>\n",
              "    .dataframe tbody tr th:only-of-type {\n",
              "        vertical-align: middle;\n",
              "    }\n",
              "\n",
              "    .dataframe tbody tr th {\n",
              "        vertical-align: top;\n",
              "    }\n",
              "\n",
              "    .dataframe thead th {\n",
              "        text-align: right;\n",
              "    }\n",
              "</style>\n",
              "<table border=\"1\" class=\"dataframe\">\n",
              "  <thead>\n",
              "    <tr style=\"text-align: right;\">\n",
              "      <th></th>\n",
              "      <th>Columns</th>\n",
              "      <th>Skewness</th>\n",
              "      <th>Kurtosis</th>\n",
              "    </tr>\n",
              "  </thead>\n",
              "  <tbody>\n",
              "    <tr>\n",
              "      <th>0</th>\n",
              "      <td>acousticness</td>\n",
              "      <td>1.657753</td>\n",
              "      <td>1.747025</td>\n",
              "    </tr>\n",
              "    <tr>\n",
              "      <th>1</th>\n",
              "      <td>danceability</td>\n",
              "      <td>-0.422987</td>\n",
              "      <td>-0.204968</td>\n",
              "    </tr>\n",
              "    <tr>\n",
              "      <th>2</th>\n",
              "      <td>duration_ms</td>\n",
              "      <td>2.501598</td>\n",
              "      <td>11.913144</td>\n",
              "    </tr>\n",
              "    <tr>\n",
              "      <th>3</th>\n",
              "      <td>energy</td>\n",
              "      <td>-0.915369</td>\n",
              "      <td>0.580390</td>\n",
              "    </tr>\n",
              "    <tr>\n",
              "      <th>4</th>\n",
              "      <td>instrumentalness</td>\n",
              "      <td>1.957088</td>\n",
              "      <td>2.278537</td>\n",
              "    </tr>\n",
              "    <tr>\n",
              "      <th>5</th>\n",
              "      <td>liveness</td>\n",
              "      <td>1.953186</td>\n",
              "      <td>4.092548</td>\n",
              "    </tr>\n",
              "    <tr>\n",
              "      <th>6</th>\n",
              "      <td>loudness</td>\n",
              "      <td>-2.235925</td>\n",
              "      <td>7.985262</td>\n",
              "    </tr>\n",
              "    <tr>\n",
              "      <th>7</th>\n",
              "      <td>speechiness</td>\n",
              "      <td>2.305167</td>\n",
              "      <td>6.261436</td>\n",
              "    </tr>\n",
              "    <tr>\n",
              "      <th>8</th>\n",
              "      <td>tempo</td>\n",
              "      <td>0.440990</td>\n",
              "      <td>0.043986</td>\n",
              "    </tr>\n",
              "    <tr>\n",
              "      <th>9</th>\n",
              "      <td>valence</td>\n",
              "      <td>0.076381</td>\n",
              "      <td>-1.010055</td>\n",
              "    </tr>\n",
              "  </tbody>\n",
              "</table>\n",
              "</div>"
            ],
            "text/plain": [
              "            Columns  Skewness   Kurtosis\n",
              "0      acousticness  1.657753   1.747025\n",
              "1      danceability -0.422987  -0.204968\n",
              "2       duration_ms  2.501598  11.913144\n",
              "3            energy -0.915369   0.580390\n",
              "4  instrumentalness  1.957088   2.278537\n",
              "5          liveness  1.953186   4.092548\n",
              "6          loudness -2.235925   7.985262\n",
              "7       speechiness  2.305167   6.261436\n",
              "8             tempo  0.440990   0.043986\n",
              "9           valence  0.076381  -1.010055"
            ]
          },
          "metadata": {},
          "execution_count": 25
        }
      ]
    },
    {
      "cell_type": "markdown",
      "metadata": {
        "id": "WHZKqvGOIlo0"
      },
      "source": [
        "##**Checking the correlation between attributes**"
      ]
    },
    {
      "cell_type": "markdown",
      "metadata": {
        "id": "k-EryCKwZ3ik"
      },
      "source": [
        "\n",
        "\n",
        "**Label Encoding**\n",
        "\n",
        "Before transforming and splitting data, it is necessary to categorize the data. This is necessary because machine learning models can only process numerical data. in the dataset we have 2 columns that have categorical data types, namely song_title and artist. so in these 2 columns we have to convert them to numerical data. Data is changed using Encoding Label.\n",
        "\n",
        "\n",
        "1. https://www.analyticsvidhya.com/blog/2020/03/one-hot-encoding-vs-label-encoding-using-scikit-learn/\n",
        "2. https://medium.com/warung-pintar/beberapa-cara-untuk-preprocessing-data-dalam-machine-learning-13cef4294614\n",
        "3. https://medium.com/@adiptamartulandi/data-preprocessing-pada-machine-learning-handling-categorical-data-ucupstory-6e409dbfd0a0"
      ]
    },
    {
      "cell_type": "code",
      "metadata": {
        "colab": {
          "base_uri": "https://localhost:8080/",
          "height": 224
        },
        "id": "OZzphRB7C5RN",
        "outputId": "c51c572b-1e2b-4a18-a051-60656e920c93"
      },
      "source": [
        "#Label Encoding\n",
        "pd.options.mode.chained_assignment = None  # default='warn'\n",
        "cols = ['song_title','artist']\n",
        "df[cols] = df[cols].apply(LabelEncoder().fit_transform)\n",
        "df.head(n=5)"
      ],
      "execution_count": null,
      "outputs": [
        {
          "output_type": "execute_result",
          "data": {
            "text/html": [
              "<div>\n",
              "<style scoped>\n",
              "    .dataframe tbody tr th:only-of-type {\n",
              "        vertical-align: middle;\n",
              "    }\n",
              "\n",
              "    .dataframe tbody tr th {\n",
              "        vertical-align: top;\n",
              "    }\n",
              "\n",
              "    .dataframe thead th {\n",
              "        text-align: right;\n",
              "    }\n",
              "</style>\n",
              "<table border=\"1\" class=\"dataframe\">\n",
              "  <thead>\n",
              "    <tr style=\"text-align: right;\">\n",
              "      <th></th>\n",
              "      <th>acousticness</th>\n",
              "      <th>danceability</th>\n",
              "      <th>duration_ms</th>\n",
              "      <th>energy</th>\n",
              "      <th>instrumentalness</th>\n",
              "      <th>key</th>\n",
              "      <th>liveness</th>\n",
              "      <th>loudness</th>\n",
              "      <th>mode</th>\n",
              "      <th>speechiness</th>\n",
              "      <th>tempo</th>\n",
              "      <th>time_signature</th>\n",
              "      <th>valence</th>\n",
              "      <th>target</th>\n",
              "      <th>song_title</th>\n",
              "      <th>artist</th>\n",
              "    </tr>\n",
              "  </thead>\n",
              "  <tbody>\n",
              "    <tr>\n",
              "      <th>0</th>\n",
              "      <td>0.0102</td>\n",
              "      <td>0.833</td>\n",
              "      <td>204600</td>\n",
              "      <td>0.434</td>\n",
              "      <td>0.021900</td>\n",
              "      <td>2</td>\n",
              "      <td>0.1650</td>\n",
              "      <td>-8.795</td>\n",
              "      <td>1</td>\n",
              "      <td>0.4310</td>\n",
              "      <td>150.062</td>\n",
              "      <td>4.0</td>\n",
              "      <td>0.286</td>\n",
              "      <td>1</td>\n",
              "      <td>1043</td>\n",
              "      <td>449</td>\n",
              "    </tr>\n",
              "    <tr>\n",
              "      <th>1</th>\n",
              "      <td>0.1990</td>\n",
              "      <td>0.743</td>\n",
              "      <td>326933</td>\n",
              "      <td>0.359</td>\n",
              "      <td>0.006110</td>\n",
              "      <td>1</td>\n",
              "      <td>0.1370</td>\n",
              "      <td>-10.401</td>\n",
              "      <td>1</td>\n",
              "      <td>0.0794</td>\n",
              "      <td>160.083</td>\n",
              "      <td>4.0</td>\n",
              "      <td>0.588</td>\n",
              "      <td>1</td>\n",
              "      <td>1334</td>\n",
              "      <td>222</td>\n",
              "    </tr>\n",
              "    <tr>\n",
              "      <th>2</th>\n",
              "      <td>0.0344</td>\n",
              "      <td>0.838</td>\n",
              "      <td>185707</td>\n",
              "      <td>0.412</td>\n",
              "      <td>0.000234</td>\n",
              "      <td>2</td>\n",
              "      <td>0.1590</td>\n",
              "      <td>-7.148</td>\n",
              "      <td>1</td>\n",
              "      <td>0.2890</td>\n",
              "      <td>75.044</td>\n",
              "      <td>4.0</td>\n",
              "      <td>0.173</td>\n",
              "      <td>1</td>\n",
              "      <td>1906</td>\n",
              "      <td>449</td>\n",
              "    </tr>\n",
              "    <tr>\n",
              "      <th>3</th>\n",
              "      <td>0.6040</td>\n",
              "      <td>0.494</td>\n",
              "      <td>199413</td>\n",
              "      <td>0.338</td>\n",
              "      <td>0.510000</td>\n",
              "      <td>5</td>\n",
              "      <td>0.0922</td>\n",
              "      <td>-15.236</td>\n",
              "      <td>1</td>\n",
              "      <td>0.0261</td>\n",
              "      <td>86.468</td>\n",
              "      <td>4.0</td>\n",
              "      <td>0.230</td>\n",
              "      <td>1</td>\n",
              "      <td>1044</td>\n",
              "      <td>95</td>\n",
              "    </tr>\n",
              "    <tr>\n",
              "      <th>4</th>\n",
              "      <td>0.1800</td>\n",
              "      <td>0.678</td>\n",
              "      <td>392893</td>\n",
              "      <td>0.561</td>\n",
              "      <td>0.512000</td>\n",
              "      <td>5</td>\n",
              "      <td>0.4390</td>\n",
              "      <td>-11.648</td>\n",
              "      <td>0</td>\n",
              "      <td>0.0694</td>\n",
              "      <td>174.004</td>\n",
              "      <td>4.0</td>\n",
              "      <td>0.904</td>\n",
              "      <td>1</td>\n",
              "      <td>1243</td>\n",
              "      <td>628</td>\n",
              "    </tr>\n",
              "  </tbody>\n",
              "</table>\n",
              "</div>"
            ],
            "text/plain": [
              "   acousticness  danceability  duration_ms  energy  instrumentalness  key  \\\n",
              "0        0.0102         0.833       204600   0.434          0.021900    2   \n",
              "1        0.1990         0.743       326933   0.359          0.006110    1   \n",
              "2        0.0344         0.838       185707   0.412          0.000234    2   \n",
              "3        0.6040         0.494       199413   0.338          0.510000    5   \n",
              "4        0.1800         0.678       392893   0.561          0.512000    5   \n",
              "\n",
              "   liveness  loudness  mode  speechiness    tempo  time_signature  valence  \\\n",
              "0    0.1650    -8.795     1       0.4310  150.062             4.0    0.286   \n",
              "1    0.1370   -10.401     1       0.0794  160.083             4.0    0.588   \n",
              "2    0.1590    -7.148     1       0.2890   75.044             4.0    0.173   \n",
              "3    0.0922   -15.236     1       0.0261   86.468             4.0    0.230   \n",
              "4    0.4390   -11.648     0       0.0694  174.004             4.0    0.904   \n",
              "\n",
              "   target  song_title  artist  \n",
              "0       1        1043     449  \n",
              "1       1        1334     222  \n",
              "2       1        1906     449  \n",
              "3       1        1044      95  \n",
              "4       1        1243     628  "
            ]
          },
          "metadata": {},
          "execution_count": 26
        }
      ]
    },
    {
      "cell_type": "code",
      "metadata": {
        "colab": {
          "base_uri": "https://localhost:8080/",
          "height": 809
        },
        "id": "jX3uCz-XC71l",
        "outputId": "6fbdc3e1-fe19-4b03-d062-9ff5e9d48395"
      },
      "source": [
        "#Heat Map\n",
        "plt.figure(figsize=(15,15))\n",
        "p=sns.heatmap(df.corr(), annot=True)"
      ],
      "execution_count": null,
      "outputs": [
        {
          "output_type": "display_data",
          "data": {
            "image/png": "[encoded data removed]",
            "text/plain": [
              "<Figure size 1080x1080 with 2 Axes>"
            ]
          },
          "metadata": {
            "needs_background": "light"
          }
        }
      ]
    },
    {
      "cell_type": "markdown",
      "metadata": {
        "id": "Ysvre3u-KEMm"
      },
      "source": [
        ">It can be deduced from the heatmap that there are little correlations between certain features (acousticness/energy and acousticness and loudness) however, when compared against the target variable, the correlation is minimal. This signifies that developing a linear classifiers would not be appropriate for this assignment.\n",
        "\n",
        "> \n",
        "\n"
      ]
    },
    {
      "cell_type": "code",
      "metadata": {
        "colab": {
          "base_uri": "https://localhost:8080/"
        },
        "id": "efiyBEUiC-Sq",
        "outputId": "db8618eb-b0a4-49ce-e301-433da868f93d"
      },
      "source": [
        "# check the correlation of the target attribute with all other variables\n",
        "df.corr()['target'].sort_values(ascending=False)"
      ],
      "execution_count": null,
      "outputs": [
        {
          "output_type": "execute_result",
          "data": {
            "text/plain": [
              "target              1.000000\n",
              "danceability        0.177344\n",
              "speechiness         0.153866\n",
              "instrumentalness    0.151968\n",
              "duration_ms         0.146490\n",
              "valence             0.110064\n",
              "energy              0.041026\n",
              "time_signature      0.039927\n",
              "key                 0.035380\n",
              "tempo               0.034780\n",
              "liveness            0.026229\n",
              "song_title          0.000259\n",
              "artist             -0.013154\n",
              "loudness           -0.069935\n",
              "mode               -0.072453\n",
              "acousticness       -0.130388\n",
              "Name: target, dtype: float64"
            ]
          },
          "metadata": {},
          "execution_count": 28
        }
      ]
    },
    {
      "cell_type": "markdown",
      "metadata": {
        "id": "XipilC0_74ce"
      },
      "source": [
        ">The heatmap and the correlation above displayed cannot be enough to choose the features for the models, since they have weak correlation. It is important to put them through classifiers to aid in the selection of the features. "
      ]
    },
    {
      "cell_type": "markdown",
      "metadata": {
        "id": "p_jIrpi6wK2u"
      },
      "source": [
        "# **3. DATA TRANSFORMATION** \n"
      ]
    },
    {
      "cell_type": "markdown",
      "metadata": {
        "id": "vbn7nzHbX9Lz"
      },
      "source": [
        "## **Assigning X and y values (Pre-liminary)**\n",
        "\n",
        "X -> input variable\n",
        "\n",
        "y -> target variable\n",
        "\n",
        "This is determined since for feature selection, we are going to be utlising three classifiers. The X variable, hence, is going to be more streamlined after the feature selection classifiers are going to determine which of the initial input variables have the most correlation against the y variable. \n",
        "\n",
        "For now, the X variables are going to be all of the columns EXCEPT for the target variable, and y variable is going to be simply 'target'.\n"
      ]
    },
    {
      "cell_type": "code",
      "metadata": {
        "colab": {
          "base_uri": "https://localhost:8080/",
          "height": 224
        },
        "id": "nsxs7TECYXgE",
        "outputId": "376d08c0-80e1-44a4-c0f5-e4b319b2c7c7"
      },
      "source": [
        "X = df[['acousticness','danceability','mode','duration_ms','loudness',\n",
        "                 'energy','instrumentalness','key','liveness', 'speechiness','tempo',\n",
        "                 'time_signature','valence','song_title','artist']]\n",
        "X.head()"
      ],
      "execution_count": null,
      "outputs": [
        {
          "output_type": "execute_result",
          "data": {
            "text/html": [
              "<div>\n",
              "<style scoped>\n",
              "    .dataframe tbody tr th:only-of-type {\n",
              "        vertical-align: middle;\n",
              "    }\n",
              "\n",
              "    .dataframe tbody tr th {\n",
              "        vertical-align: top;\n",
              "    }\n",
              "\n",
              "    .dataframe thead th {\n",
              "        text-align: right;\n",
              "    }\n",
              "</style>\n",
              "<table border=\"1\" class=\"dataframe\">\n",
              "  <thead>\n",
              "    <tr style=\"text-align: right;\">\n",
              "      <th></th>\n",
              "      <th>acousticness</th>\n",
              "      <th>danceability</th>\n",
              "      <th>mode</th>\n",
              "      <th>duration_ms</th>\n",
              "      <th>loudness</th>\n",
              "      <th>energy</th>\n",
              "      <th>instrumentalness</th>\n",
              "      <th>key</th>\n",
              "      <th>liveness</th>\n",
              "      <th>speechiness</th>\n",
              "      <th>tempo</th>\n",
              "      <th>time_signature</th>\n",
              "      <th>valence</th>\n",
              "      <th>song_title</th>\n",
              "      <th>artist</th>\n",
              "    </tr>\n",
              "  </thead>\n",
              "  <tbody>\n",
              "    <tr>\n",
              "      <th>0</th>\n",
              "      <td>0.0102</td>\n",
              "      <td>0.833</td>\n",
              "      <td>1</td>\n",
              "      <td>204600</td>\n",
              "      <td>-8.795</td>\n",
              "      <td>0.434</td>\n",
              "      <td>0.021900</td>\n",
              "      <td>2</td>\n",
              "      <td>0.1650</td>\n",
              "      <td>0.4310</td>\n",
              "      <td>150.062</td>\n",
              "      <td>4.0</td>\n",
              "      <td>0.286</td>\n",
              "      <td>1043</td>\n",
              "      <td>449</td>\n",
              "    </tr>\n",
              "    <tr>\n",
              "      <th>1</th>\n",
              "      <td>0.1990</td>\n",
              "      <td>0.743</td>\n",
              "      <td>1</td>\n",
              "      <td>326933</td>\n",
              "      <td>-10.401</td>\n",
              "      <td>0.359</td>\n",
              "      <td>0.006110</td>\n",
              "      <td>1</td>\n",
              "      <td>0.1370</td>\n",
              "      <td>0.0794</td>\n",
              "      <td>160.083</td>\n",
              "      <td>4.0</td>\n",
              "      <td>0.588</td>\n",
              "      <td>1334</td>\n",
              "      <td>222</td>\n",
              "    </tr>\n",
              "    <tr>\n",
              "      <th>2</th>\n",
              "      <td>0.0344</td>\n",
              "      <td>0.838</td>\n",
              "      <td>1</td>\n",
              "      <td>185707</td>\n",
              "      <td>-7.148</td>\n",
              "      <td>0.412</td>\n",
              "      <td>0.000234</td>\n",
              "      <td>2</td>\n",
              "      <td>0.1590</td>\n",
              "      <td>0.2890</td>\n",
              "      <td>75.044</td>\n",
              "      <td>4.0</td>\n",
              "      <td>0.173</td>\n",
              "      <td>1906</td>\n",
              "      <td>449</td>\n",
              "    </tr>\n",
              "    <tr>\n",
              "      <th>3</th>\n",
              "      <td>0.6040</td>\n",
              "      <td>0.494</td>\n",
              "      <td>1</td>\n",
              "      <td>199413</td>\n",
              "      <td>-15.236</td>\n",
              "      <td>0.338</td>\n",
              "      <td>0.510000</td>\n",
              "      <td>5</td>\n",
              "      <td>0.0922</td>\n",
              "      <td>0.0261</td>\n",
              "      <td>86.468</td>\n",
              "      <td>4.0</td>\n",
              "      <td>0.230</td>\n",
              "      <td>1044</td>\n",
              "      <td>95</td>\n",
              "    </tr>\n",
              "    <tr>\n",
              "      <th>4</th>\n",
              "      <td>0.1800</td>\n",
              "      <td>0.678</td>\n",
              "      <td>0</td>\n",
              "      <td>392893</td>\n",
              "      <td>-11.648</td>\n",
              "      <td>0.561</td>\n",
              "      <td>0.512000</td>\n",
              "      <td>5</td>\n",
              "      <td>0.4390</td>\n",
              "      <td>0.0694</td>\n",
              "      <td>174.004</td>\n",
              "      <td>4.0</td>\n",
              "      <td>0.904</td>\n",
              "      <td>1243</td>\n",
              "      <td>628</td>\n",
              "    </tr>\n",
              "  </tbody>\n",
              "</table>\n",
              "</div>"
            ],
            "text/plain": [
              "   acousticness  danceability  mode  duration_ms  loudness  energy  \\\n",
              "0        0.0102         0.833     1       204600    -8.795   0.434   \n",
              "1        0.1990         0.743     1       326933   -10.401   0.359   \n",
              "2        0.0344         0.838     1       185707    -7.148   0.412   \n",
              "3        0.6040         0.494     1       199413   -15.236   0.338   \n",
              "4        0.1800         0.678     0       392893   -11.648   0.561   \n",
              "\n",
              "   instrumentalness  key  liveness  speechiness    tempo  time_signature  \\\n",
              "0          0.021900    2    0.1650       0.4310  150.062             4.0   \n",
              "1          0.006110    1    0.1370       0.0794  160.083             4.0   \n",
              "2          0.000234    2    0.1590       0.2890   75.044             4.0   \n",
              "3          0.510000    5    0.0922       0.0261   86.468             4.0   \n",
              "4          0.512000    5    0.4390       0.0694  174.004             4.0   \n",
              "\n",
              "   valence  song_title  artist  \n",
              "0    0.286        1043     449  \n",
              "1    0.588        1334     222  \n",
              "2    0.173        1906     449  \n",
              "3    0.230        1044      95  \n",
              "4    0.904        1243     628  "
            ]
          },
          "metadata": {},
          "execution_count": 29
        }
      ]
    },
    {
      "cell_type": "code",
      "metadata": {
        "id": "kn3ZssgGDHM6"
      },
      "source": [
        "y = df.target"
      ],
      "execution_count": null,
      "outputs": []
    },
    {
      "cell_type": "markdown",
      "metadata": {
        "id": "Y1cu-LyiYDY6"
      },
      "source": [
        "## **Feature Scaling**\n",
        "\n",
        "Feature Scaling is a way to make numerical data in a dataset have the same range of values ​​(scale). There is no longer one data variable that dominates the other data variables. \n",
        "\n",
        "1. https://scikit-learn.org/stable/auto_examples/preprocessing/plot_all_scaling.html\n",
        "2. https://prasetyadi.name/2019/data-preprocessing-menggunakan-modul-python/\n",
        "\n"
      ]
    },
    {
      "cell_type": "code",
      "metadata": {
        "colab": {
          "base_uri": "https://localhost:8080/",
          "height": 224
        },
        "id": "EijhisSpDEQD",
        "outputId": "c3458ee3-872f-42ef-da16-812d5f57ec44"
      },
      "source": [
        "#Feature Scaling\n",
        "from sklearn.preprocessing import RobustScaler\n",
        "sc_x = RobustScaler()\n",
        "X = pd.DataFrame(sc_x.fit_transform(df.drop([\"target\"],axis = 1),), columns=['acousticness','danceability','mode','duration_ms','loudness','energy','instrumentalness','key','liveness',\n",
        "                                                                                   'speechiness','tempo','time_signature','valence','song_title','artist'])\n",
        "\n",
        "X.head()"
      ],
      "execution_count": null,
      "outputs": [
        {
          "output_type": "execute_result",
          "data": {
            "text/html": [
              "<div>\n",
              "<style scoped>\n",
              "    .dataframe tbody tr th:only-of-type {\n",
              "        vertical-align: middle;\n",
              "    }\n",
              "\n",
              "    .dataframe tbody tr th {\n",
              "        vertical-align: top;\n",
              "    }\n",
              "\n",
              "    .dataframe thead th {\n",
              "        text-align: right;\n",
              "    }\n",
              "</style>\n",
              "<table border=\"1\" class=\"dataframe\">\n",
              "  <thead>\n",
              "    <tr style=\"text-align: right;\">\n",
              "      <th></th>\n",
              "      <th>acousticness</th>\n",
              "      <th>danceability</th>\n",
              "      <th>mode</th>\n",
              "      <th>duration_ms</th>\n",
              "      <th>loudness</th>\n",
              "      <th>energy</th>\n",
              "      <th>instrumentalness</th>\n",
              "      <th>key</th>\n",
              "      <th>liveness</th>\n",
              "      <th>speechiness</th>\n",
              "      <th>tempo</th>\n",
              "      <th>time_signature</th>\n",
              "      <th>valence</th>\n",
              "      <th>song_title</th>\n",
              "      <th>artist</th>\n",
              "    </tr>\n",
              "  </thead>\n",
              "  <tbody>\n",
              "    <tr>\n",
              "      <th>0</th>\n",
              "      <td>-0.208684</td>\n",
              "      <td>0.901786</td>\n",
              "      <td>-0.348533</td>\n",
              "      <td>-0.997343</td>\n",
              "      <td>0.404752</td>\n",
              "      <td>-0.571429</td>\n",
              "      <td>0.249919</td>\n",
              "      <td>-0.698280</td>\n",
              "      <td>0.0</td>\n",
              "      <td>5.334752</td>\n",
              "      <td>0.763497</td>\n",
              "      <td>0.0</td>\n",
              "      <td>-0.522727</td>\n",
              "      <td>0.066120</td>\n",
              "      <td>-0.319787</td>\n",
              "    </tr>\n",
              "    <tr>\n",
              "      <th>1</th>\n",
              "      <td>0.530520</td>\n",
              "      <td>0.500000</td>\n",
              "      <td>1.390337</td>\n",
              "      <td>-1.263065</td>\n",
              "      <td>0.111938</td>\n",
              "      <td>-0.714286</td>\n",
              "      <td>0.068160</td>\n",
              "      <td>-1.138491</td>\n",
              "      <td>0.0</td>\n",
              "      <td>0.347518</td>\n",
              "      <td>1.030501</td>\n",
              "      <td>0.0</td>\n",
              "      <td>0.239899</td>\n",
              "      <td>0.364428</td>\n",
              "      <td>-0.664641</td>\n",
              "    </tr>\n",
              "    <tr>\n",
              "      <th>2</th>\n",
              "      <td>-0.113934</td>\n",
              "      <td>0.924107</td>\n",
              "      <td>-0.617083</td>\n",
              "      <td>-1.075288</td>\n",
              "      <td>0.002972</td>\n",
              "      <td>-0.571429</td>\n",
              "      <td>0.210970</td>\n",
              "      <td>-0.246831</td>\n",
              "      <td>0.0</td>\n",
              "      <td>3.320567</td>\n",
              "      <td>-1.235317</td>\n",
              "      <td>0.0</td>\n",
              "      <td>-0.808081</td>\n",
              "      <td>0.950794</td>\n",
              "      <td>-0.319787</td>\n",
              "    </tr>\n",
              "    <tr>\n",
              "      <th>3</th>\n",
              "      <td>2.116205</td>\n",
              "      <td>-0.611607</td>\n",
              "      <td>-0.422262</td>\n",
              "      <td>-1.337467</td>\n",
              "      <td>9.456212</td>\n",
              "      <td>-0.142857</td>\n",
              "      <td>-0.222655</td>\n",
              "      <td>-2.463784</td>\n",
              "      <td>0.0</td>\n",
              "      <td>-0.408511</td>\n",
              "      <td>-0.930931</td>\n",
              "      <td>0.0</td>\n",
              "      <td>-0.664141</td>\n",
              "      <td>0.067145</td>\n",
              "      <td>-0.857577</td>\n",
              "    </tr>\n",
              "    <tr>\n",
              "      <th>4</th>\n",
              "      <td>0.456129</td>\n",
              "      <td>0.209821</td>\n",
              "      <td>2.327908</td>\n",
              "      <td>-0.547387</td>\n",
              "      <td>9.493301</td>\n",
              "      <td>-0.142857</td>\n",
              "      <td>2.028562</td>\n",
              "      <td>-1.480299</td>\n",
              "      <td>-1.0</td>\n",
              "      <td>0.205674</td>\n",
              "      <td>1.401419</td>\n",
              "      <td>0.0</td>\n",
              "      <td>1.037879</td>\n",
              "      <td>0.271143</td>\n",
              "      <td>-0.047854</td>\n",
              "    </tr>\n",
              "  </tbody>\n",
              "</table>\n",
              "</div>"
            ],
            "text/plain": [
              "   acousticness  danceability      mode  duration_ms  loudness    energy  \\\n",
              "0     -0.208684      0.901786 -0.348533    -0.997343  0.404752 -0.571429   \n",
              "1      0.530520      0.500000  1.390337    -1.263065  0.111938 -0.714286   \n",
              "2     -0.113934      0.924107 -0.617083    -1.075288  0.002972 -0.571429   \n",
              "3      2.116205     -0.611607 -0.422262    -1.337467  9.456212 -0.142857   \n",
              "4      0.456129      0.209821  2.327908    -0.547387  9.493301 -0.142857   \n",
              "\n",
              "   instrumentalness       key  liveness  speechiness     tempo  \\\n",
              "0          0.249919 -0.698280       0.0     5.334752  0.763497   \n",
              "1          0.068160 -1.138491       0.0     0.347518  1.030501   \n",
              "2          0.210970 -0.246831       0.0     3.320567 -1.235317   \n",
              "3         -0.222655 -2.463784       0.0    -0.408511 -0.930931   \n",
              "4          2.028562 -1.480299      -1.0     0.205674  1.401419   \n",
              "\n",
              "   time_signature   valence  song_title    artist  \n",
              "0             0.0 -0.522727    0.066120 -0.319787  \n",
              "1             0.0  0.239899    0.364428 -0.664641  \n",
              "2             0.0 -0.808081    0.950794 -0.319787  \n",
              "3             0.0 -0.664141    0.067145 -0.857577  \n",
              "4             0.0  1.037879    0.271143 -0.047854  "
            ]
          },
          "metadata": {},
          "execution_count": 31
        }
      ]
    },
    {
      "cell_type": "markdown",
      "metadata": {
        "id": "brUaQEUoadQp"
      },
      "source": [
        "## **Data Splitting**\n",
        "\n",
        "80% -> Training data\n",
        "\n",
        "20% -> testing data"
      ]
    },
    {
      "cell_type": "code",
      "metadata": {
        "id": "qJs-m7HYI8ID"
      },
      "source": [
        "X_train, X_test, y_train, y_test = train_test_split(X, y, test_size=0.2, random_state=42, stratify=y)"
      ],
      "execution_count": null,
      "outputs": []
    },
    {
      "cell_type": "markdown",
      "metadata": {
        "id": "4U-reATQvJgq"
      },
      "source": [
        "#  **3. FEATURE IMPORTANCE**\n"
      ]
    },
    {
      "cell_type": "markdown",
      "metadata": {
        "id": "SHy77mWCAaNT"
      },
      "source": [
        "\n",
        "Feature importance aids in reducing the input variables, and aids in understanding both the model and the data better. It can also aid in the betterment of evaluation results. \n",
        "\n",
        "Three classifiers were utlised to test which features would be able to produced high accuracy and good evaluation results. The chosen models were ***Random Forest, Decision Tree and Gradient Boosting*** classifiers.\n",
        "\n",
        "All three of the models are tree-based. Tree-based classifiers calculate the best-performing features near the root of its tree, hence is helpful for feature importance. \n",
        "\n",
        "***Links:*** \n",
        "1. https://machinelearningmastery.com/calculate-feature-importance-with-python/\n",
        "2. https://towardsdatascience.com/the-mathematics-of-decision-trees-random-forest-and-feature-importance-in-scikit-learn-and-spark-f2861df67e3\n",
        "3. https://towardsdatascience.com/why-how-and-when-to-apply-feature-selection-e9c69adfabf2"
      ]
    },
    {
      "cell_type": "code",
      "metadata": {
        "colab": {
          "base_uri": "https://localhost:8080/",
          "height": 499
        },
        "id": "Z4sVN0QpKPem",
        "outputId": "c5cac7a6-c685-441e-ba38-bbb27d6e2aa1"
      },
      "source": [
        "#RANDOM FOREST\n",
        "model = RandomForestClassifier(random_state=42)\n",
        "model.fit(X_train, y_train)\n",
        "\n",
        "print(f'{model}') \n",
        "selector = SelectFromModel(model)\n",
        "selector.fit(X, y)\n",
        "\n",
        "selected_features_randomforest = X.columns[selector.get_support()].values\n",
        "transformed_X = selector.transform(X)\n",
        "\n",
        "print(f\"old shape: {X.shape}\")\n",
        "print(f\"new shape: {transformed_X.shape}\")\n",
        "print(f\"selected features:\", selected_features_randomforest)\n",
        "\n",
        "imp_feature = pd \\\n",
        "    .DataFrame({'feature': X.columns, 'importance': model.feature_importances_}) \\\n",
        "    .sort_values(by=['importance'], ascending=True)\n",
        "plt.figure(figsize=(10,4))\n",
        "plt.title(\"Feature Importance\")\n",
        "plt.xlabel(\"importance \")\n",
        "plt.ylabel(\"features\")\n",
        "plt.barh(imp_feature['feature'], imp_feature['importance'])\n",
        "plt.show()"
      ],
      "execution_count": null,
      "outputs": [
        {
          "output_type": "stream",
          "name": "stdout",
          "text": [
            "RandomForestClassifier(bootstrap=True, ccp_alpha=0.0, class_weight=None,\n",
            "                       criterion='gini', max_depth=None, max_features='auto',\n",
            "                       max_leaf_nodes=None, max_samples=None,\n",
            "                       min_impurity_decrease=0.0, min_impurity_split=None,\n",
            "                       min_samples_leaf=1, min_samples_split=2,\n",
            "                       min_weight_fraction_leaf=0.0, n_estimators=100,\n",
            "                       n_jobs=None, oob_score=False, random_state=42, verbose=0,\n",
            "                       warm_start=False)\n",
            "old shape: (2012, 15)\n",
            "new shape: (2012, 8)\n",
            "selected features: ['acousticness' 'danceability' 'mode' 'duration_ms' 'loudness' 'key'\n",
            " 'speechiness' 'valence']\n"
          ]
        },
        {
          "output_type": "display_data",
          "data": {
            "image/png": "[encoded data removed]",
            "text/plain": [
              "<Figure size 720x288 with 1 Axes>"
            ]
          },
          "metadata": {
            "needs_background": "light"
          }
        }
      ]
    },
    {
      "cell_type": "code",
      "metadata": {
        "colab": {
          "base_uri": "https://localhost:8080/",
          "height": 448
        },
        "id": "o2chwIo_PkXH",
        "outputId": "86216e4d-7612-486c-ba03-a020c950ebb5"
      },
      "source": [
        "#DECISION TREE\n",
        "model = DecisionTreeClassifier(random_state=42)\n",
        "model.fit(X_train, y_train)\n",
        "\n",
        "print(f'{model}') \n",
        "selector = SelectFromModel(model)\n",
        "selector.fit(X, y)\n",
        "\n",
        "selected_features_decisiontree = X.columns[selector.get_support()].values\n",
        "transformed_X = selector.transform(X)\n",
        "\n",
        "print(f\"old shape: {X.shape}\")\n",
        "print(f\"new shape: {transformed_X.shape}\")\n",
        "print(f\"selected features:\", selected_features_decisiontree)\n",
        "\n",
        "imp_feature = pd \\\n",
        "    .DataFrame({'feature': X.columns, 'importance': model.feature_importances_}) \\\n",
        "    .sort_values(by=['importance'], ascending=True)\n",
        "plt.figure(figsize=(10,4))\n",
        "plt.title(\"Feature Importance\")\n",
        "plt.xlabel(\"importance \")\n",
        "plt.ylabel(\"features\")\n",
        "plt.barh(imp_feature['feature'], imp_feature['importance'])\n",
        "plt.show()"
      ],
      "execution_count": null,
      "outputs": [
        {
          "output_type": "stream",
          "name": "stdout",
          "text": [
            "DecisionTreeClassifier(ccp_alpha=0.0, class_weight=None, criterion='gini',\n",
            "                       max_depth=None, max_features=None, max_leaf_nodes=None,\n",
            "                       min_impurity_decrease=0.0, min_impurity_split=None,\n",
            "                       min_samples_leaf=1, min_samples_split=2,\n",
            "                       min_weight_fraction_leaf=0.0, presort='deprecated',\n",
            "                       random_state=42, splitter='best')\n",
            "old shape: (2012, 15)\n",
            "new shape: (2012, 6)\n",
            "selected features: ['danceability' 'duration_ms' 'loudness' 'key' 'speechiness' 'valence']\n"
          ]
        },
        {
          "output_type": "display_data",
          "data": {
            "image/png": "[encoded data removed]",
            "text/plain": [
              "<Figure size 720x288 with 1 Axes>"
            ]
          },
          "metadata": {
            "needs_background": "light"
          }
        }
      ]
    },
    {
      "cell_type": "code",
      "metadata": {
        "colab": {
          "base_uri": "https://localhost:8080/",
          "height": 533
        },
        "id": "5mawgYRoO6lo",
        "outputId": "fb398e4a-ddfb-4656-f6f7-77186cdf06e9"
      },
      "source": [
        "#GRADIENT BOOSTING\n",
        "model = GradientBoostingClassifier(random_state=42)\n",
        "model.fit(X_train, y_train)\n",
        "\n",
        "print(f'{model}') \n",
        "selector = SelectFromModel(model)\n",
        "selector.fit(X, y)\n",
        "\n",
        "selected_features_gradientboosting = X.columns[selector.get_support()].values\n",
        "transformed_X = selector.transform(X)\n",
        "\n",
        "print(f\"old shape: {X.shape}\")\n",
        "print(f\"new shape: {transformed_X.shape}\")\n",
        "print(f\"selected features:\", selected_features_gradientboosting)\n",
        "\n",
        "imp_feature = pd \\\n",
        "    .DataFrame({'feature': X.columns, 'importance': model.feature_importances_}) \\\n",
        "    .sort_values(by=['importance'], ascending=True)\n",
        "plt.figure(figsize=(10,4))\n",
        "plt.title(\"Feature Importance\")\n",
        "plt.xlabel(\"importance \")\n",
        "plt.ylabel(\"features\")\n",
        "plt.barh(imp_feature['feature'], imp_feature['importance'])\n",
        "plt.show()"
      ],
      "execution_count": null,
      "outputs": [
        {
          "output_type": "stream",
          "name": "stdout",
          "text": [
            "GradientBoostingClassifier(ccp_alpha=0.0, criterion='friedman_mse', init=None,\n",
            "                           learning_rate=0.1, loss='deviance', max_depth=3,\n",
            "                           max_features=None, max_leaf_nodes=None,\n",
            "                           min_impurity_decrease=0.0, min_impurity_split=None,\n",
            "                           min_samples_leaf=1, min_samples_split=2,\n",
            "                           min_weight_fraction_leaf=0.0, n_estimators=100,\n",
            "                           n_iter_no_change=None, presort='deprecated',\n",
            "                           random_state=42, subsample=1.0, tol=0.0001,\n",
            "                           validation_fraction=0.1, verbose=0,\n",
            "                           warm_start=False)\n",
            "old shape: (2012, 15)\n",
            "new shape: (2012, 8)\n",
            "selected features: ['acousticness' 'danceability' 'mode' 'duration_ms' 'loudness' 'key'\n",
            " 'speechiness' 'valence']\n"
          ]
        },
        {
          "output_type": "display_data",
          "data": {
            "image/png": "[encoded data removed]",
            "text/plain": [
              "<Figure size 720x288 with 1 Axes>"
            ]
          },
          "metadata": {
            "needs_background": "light"
          }
        }
      ]
    },
    {
      "cell_type": "code",
      "metadata": {
        "colab": {
          "base_uri": "https://localhost:8080/"
        },
        "id": "6pY-YOF6avV0",
        "outputId": "4ddc2d9c-07bf-4341-8bb0-f655032c7bf6"
      },
      "source": [
        "#PRINT ALL OF THE FEATURES SELECTED BY THE TREE-BASED CLASSIFIERS\n",
        "print(f\"Decision Tree:\", selected_features_decisiontree)\n",
        "print(f\"Random Forest:\", selected_features_randomforest)\n",
        "print(f\"Gradient Boosting:\", selected_features_gradientboosting)"
      ],
      "execution_count": null,
      "outputs": [
        {
          "output_type": "stream",
          "name": "stdout",
          "text": [
            "Decision Tree: ['danceability' 'duration_ms' 'loudness' 'key' 'speechiness' 'valence']\n",
            "Random Forest: ['acousticness' 'danceability' 'mode' 'duration_ms' 'loudness' 'key'\n",
            " 'speechiness' 'valence']\n",
            "Gradient Boosting: ['acousticness' 'danceability' 'mode' 'duration_ms' 'loudness' 'key'\n",
            " 'speechiness' 'valence']\n"
          ]
        }
      ]
    },
    {
      "cell_type": "markdown",
      "metadata": {
        "id": "ew36yzp_qMzt"
      },
      "source": [
        ">**Decision Tree** classifier has *song_title*, and excludes *acousticness* and *duration_ms*\n",
        "\n",
        ">**Random Forest** and **Gradient Boosting** Classifiers chose the same features."
      ]
    },
    {
      "cell_type": "markdown",
      "metadata": {
        "id": "SdhL_1RtveFJ"
      },
      "source": [
        "# **4. MODEL IMPLEMENTATION**\n",
        "\n"
      ]
    },
    {
      "cell_type": "markdown",
      "metadata": {
        "id": "1zh3ADbXAfeg"
      },
      "source": [
        "**TOTAL MODELS CHOSEN:** Four Supervised Models for Classification \n",
        "\n",
        "The features found previously would be applied to the models selected to finally decide which set of features extracted results in the best accuracy."
      ]
    },
    {
      "cell_type": "markdown",
      "metadata": {
        "id": "8dKkwERpUfxv"
      },
      "source": [
        "##**Logistic Regression**\n"
      ]
    },
    {
      "cell_type": "markdown",
      "metadata": {
        "id": "mMcf23J1fiYR"
      },
      "source": [
        "`What is this model?`\n",
        "\n",
        "Logistic regression is utlised to classify both linear and non-linear data. It is often utlised with a dataset where the dependant variable/target variable is categorical. This model is claimed to be one of the most popular classification models for binary, and have often contributed to high accuracy rates.\n",
        "\n",
        "`Justification`\n",
        "\n",
        "This dataset has a ***binary target variable (target indicating whether the song was liked (1) or disliked (0))***, and after EDA and the nature of the dataset, it can be concluded that this is a classification problem, and since LR is a binary classification model popular in the field, this classifier is implemented ***e.g train the data to see how well the classifier is at classifying from the features selected on whether the song is liked or not.***\n",
        "\n",
        "***Links:***\n",
        "1. https://doi.org/10.1109/IRI.2018.00049\n",
        "2. https://doi.org/10.1109/INCAE.2018.8579372\n",
        "3. https://doi.org/10.1109/ICASSP.2019.8683376\n"
      ]
    },
    {
      "cell_type": "markdown",
      "metadata": {
        "id": "Q3LJQ5mcBRcw"
      },
      "source": [
        "### **Untuned Classifier Implementation & Evaluation**\n"
      ]
    },
    {
      "cell_type": "markdown",
      "metadata": {
        "id": "b0UgehEfBikI"
      },
      "source": [
        "There are two sets of features as displayed above. Since it is not clear which one would produce the better results, it is crucial to evaluate the models with both sets of the attributes.\n",
        "\n",
        "Below, they both are implemented with **no tuning**. \n",
        "\n",
        "`lr1_untuned`: LR classifier with GB/RF features. In total of 8 features were inserted. \n",
        "\n",
        "`lr2_untuned`: LR classidier with DT features. In total of 6 features were inserted.\n",
        "\n",
        "As for the evaluation, the metrics chosen were **Accuracy, Precision, Recall, F1-Score, Mean Squared Error and AUC-ROC curve**. "
      ]
    },
    {
      "cell_type": "code",
      "metadata": {
        "colab": {
          "base_uri": "https://localhost:8080/"
        },
        "id": "Givcn5WE8dEx",
        "outputId": "f660d339-1787-45f6-cb50-96f01c29c84f"
      },
      "source": [
        "#CLASSIFIER IMPLEMENTATION AND DEFAULT HYPERPARAMETERS\n",
        "lr=LogisticRegression()\n",
        "lr.get_params(deep=True)"
      ],
      "execution_count": null,
      "outputs": [
        {
          "output_type": "execute_result",
          "data": {
            "text/plain": [
              "{'C': 1.0,\n",
              " 'class_weight': None,\n",
              " 'dual': False,\n",
              " 'fit_intercept': True,\n",
              " 'intercept_scaling': 1,\n",
              " 'l1_ratio': None,\n",
              " 'max_iter': 100,\n",
              " 'multi_class': 'auto',\n",
              " 'n_jobs': None,\n",
              " 'penalty': 'l2',\n",
              " 'random_state': None,\n",
              " 'solver': 'lbfgs',\n",
              " 'tol': 0.0001,\n",
              " 'verbose': 0,\n",
              " 'warm_start': False}"
            ]
          },
          "metadata": {},
          "execution_count": 37
        }
      ]
    },
    {
      "cell_type": "code",
      "metadata": {
        "id": "7c39yrjCah9b"
      },
      "source": [
        "# RF/GB - 8 FEATURES\n",
        "rfgb=lr.fit(X_train[selected_features_gradientboosting], y_train)\n",
        "lr1_untuned_pred = rfgb.predict(X_test[selected_features_gradientboosting])\n",
        "\n",
        "# DT - 6 FEATURES\n",
        "dt=lr.fit(X_train[selected_features_decisiontree], y_train)\n",
        "lr2_untuned_pred = dt.predict(X_test[selected_features_decisiontree])"
      ],
      "execution_count": null,
      "outputs": []
    },
    {
      "cell_type": "code",
      "metadata": {
        "colab": {
          "base_uri": "https://localhost:8080/",
          "height": 367
        },
        "id": "WZ3jFofxCmI3",
        "outputId": "2c5b15e1-631f-463a-8eea-c45d191a0b75"
      },
      "source": [
        "#AUC-ROC CURVE : RF/GB \n",
        "auc_roc=metrics.roc_auc_score(y_test,lr1_untuned_pred)\n",
        "\n",
        "false_positive_rate, true_positive_rate, thresholds = roc_curve(y_test, lr1_untuned_pred)\n",
        "roc_auc = auc(false_positive_rate, true_positive_rate)\n",
        "\n",
        "plt.figure(figsize=(5,5))\n",
        "plt.title('AUC-ROC : LR with GB/RF Features')\n",
        "plt.plot(false_positive_rate,true_positive_rate, color='red',label = 'AUC = %0.2f' % roc_auc)\n",
        "plt.legend(loc = 'lower right')\n",
        "plt.plot([0, 1], [0, 1],linestyle='--')\n",
        "plt.axis('tight')\n",
        "plt.ylabel('True Positive Rate')\n",
        "plt.xlabel('False Positive Rate')"
      ],
      "execution_count": null,
      "outputs": [
        {
          "output_type": "execute_result",
          "data": {
            "text/plain": [
              "Text(0.5, 0, 'False Positive Rate')"
            ]
          },
          "metadata": {},
          "execution_count": 39
        },
        {
          "output_type": "display_data",
          "data": {
            "image/png": "[encoded data removed]",
            "text/plain": [
              "<Figure size 360x360 with 1 Axes>"
            ]
          },
          "metadata": {
            "needs_background": "light"
          }
        }
      ]
    },
    {
      "cell_type": "code",
      "metadata": {
        "colab": {
          "base_uri": "https://localhost:8080/",
          "height": 367
        },
        "id": "XIJTf6MrCuPH",
        "outputId": "03226869-5970-4e9a-e25a-318af85a2b04"
      },
      "source": [
        "#AUC-ROC CURVE : DT\n",
        "auc_roc=metrics.roc_auc_score(y_test,lr2_untuned_pred)\n",
        "\n",
        "false_positive_rate, true_positive_rate, thresholds = roc_curve(y_test, lr2_untuned_pred)\n",
        "roc_auc = auc(false_positive_rate, true_positive_rate)\n",
        "\n",
        "plt.figure(figsize=(5,5))\n",
        "plt.title('AUC-ROC : LR with DT Features')\n",
        "plt.plot(false_positive_rate,true_positive_rate, color='red',label = 'AUC = %0.2f' % roc_auc)\n",
        "plt.legend(loc = 'lower right')\n",
        "plt.plot([0, 1], [0, 1],linestyle='--')\n",
        "plt.axis('tight')\n",
        "plt.ylabel('True Positive Rate')\n",
        "plt.xlabel('False Positive Rate')"
      ],
      "execution_count": null,
      "outputs": [
        {
          "output_type": "execute_result",
          "data": {
            "text/plain": [
              "Text(0.5, 0, 'False Positive Rate')"
            ]
          },
          "metadata": {},
          "execution_count": 40
        },
        {
          "output_type": "display_data",
          "data": {
            "image/png": "[encoded data removed]",
            "text/plain": [
              "<Figure size 360x360 with 1 Axes>"
            ]
          },
          "metadata": {
            "needs_background": "light"
          }
        }
      ]
    },
    {
      "cell_type": "code",
      "metadata": {
        "colab": {
          "base_uri": "https://localhost:8080/",
          "height": 111
        },
        "id": "2RPipBrn18JZ",
        "outputId": "f3e39319-de90-40f7-c9c8-2150842d38c2"
      },
      "source": [
        "#EVALUATION METRICS -UNTUNED\n",
        "\n",
        "#RF/GB FEATURES\n",
        "lr1_untuned_a = accuracy_score(y_test, lr1_untuned_pred)*100\n",
        "lr1_untuned_p = precision_score(y_test, lr1_untuned_pred)* 100\n",
        "lr1_untuned_r = recall_score(y_test, lr1_untuned_pred)*100\n",
        "lr1_untuned_f1 = f1_score(y_test, lr1_untuned_pred)*100\n",
        "lr1_untuned_mse = mean_squared_error(y_test, lr1_untuned_pred)*100\n",
        "lr1_untuned_r2 = r2_score(y_test, lr1_untuned_pred)*100\n",
        "\n",
        "#DT FEATURES\n",
        "lr2_untuned_a = accuracy_score(y_test, lr2_untuned_pred)*100\n",
        "lr2_untuned_p = precision_score(y_test, lr2_untuned_pred)* 100\n",
        "lr2_untuned_r = recall_score(y_test, lr2_untuned_pred)*100\n",
        "lr2_untuned_f1 = f1_score(y_test, lr2_untuned_pred)*100\n",
        "lr2_untuned_mse = mean_squared_error(y_test, lr2_untuned_pred)*100\n",
        "lr2_untuned_r2 = r2_score(y_test, lr2_untuned_pred)*100\n",
        "\n",
        "#COMPARISON TABLE\n",
        "untuned={'Accuracy': [round(lr1_untuned_a,1), round(lr2_untuned_a,1)],\n",
        "                'Precision': [round(lr1_untuned_p,1), round(lr2_untuned_p,1)],\n",
        "                'Recall': [round(lr1_untuned_r,1), round(lr2_untuned_r,1)],\n",
        "                'F1-Score': [round(lr1_untuned_f1,1), round(lr2_untuned_f1,1)],\n",
        "                'MSE': [round(lr1_untuned_mse,1), round(lr2_untuned_mse,1)],\n",
        "                'R Squared': [round(lr1_untuned_r2,1), round(lr2_untuned_r2,1)],\n",
        "            }\n",
        "ulr = pd.DataFrame(untuned, columns = ['Accuracy','Precision','Recall','F1-Score','MSE','R Squared'], \n",
        "                   index=['RF/GB Features','DT Features'])\n",
        "ulr"
      ],
      "execution_count": null,
      "outputs": [
        {
          "output_type": "execute_result",
          "data": {
            "text/html": [
              "<div>\n",
              "<style scoped>\n",
              "    .dataframe tbody tr th:only-of-type {\n",
              "        vertical-align: middle;\n",
              "    }\n",
              "\n",
              "    .dataframe tbody tr th {\n",
              "        vertical-align: top;\n",
              "    }\n",
              "\n",
              "    .dataframe thead th {\n",
              "        text-align: right;\n",
              "    }\n",
              "</style>\n",
              "<table border=\"1\" class=\"dataframe\">\n",
              "  <thead>\n",
              "    <tr style=\"text-align: right;\">\n",
              "      <th></th>\n",
              "      <th>Accuracy</th>\n",
              "      <th>Precision</th>\n",
              "      <th>Recall</th>\n",
              "      <th>F1-Score</th>\n",
              "      <th>MSE</th>\n",
              "      <th>R Squared</th>\n",
              "    </tr>\n",
              "  </thead>\n",
              "  <tbody>\n",
              "    <tr>\n",
              "      <th>RF/GB Features</th>\n",
              "      <td>69.0</td>\n",
              "      <td>68.8</td>\n",
              "      <td>70.4</td>\n",
              "      <td>69.6</td>\n",
              "      <td>31.0</td>\n",
              "      <td>-24.1</td>\n",
              "    </tr>\n",
              "    <tr>\n",
              "      <th>DT Features</th>\n",
              "      <td>65.0</td>\n",
              "      <td>65.2</td>\n",
              "      <td>65.5</td>\n",
              "      <td>65.4</td>\n",
              "      <td>35.0</td>\n",
              "      <td>-40.0</td>\n",
              "    </tr>\n",
              "  </tbody>\n",
              "</table>\n",
              "</div>"
            ],
            "text/plain": [
              "                Accuracy  Precision  Recall  F1-Score   MSE  R Squared\n",
              "RF/GB Features      69.0       68.8    70.4      69.6  31.0      -24.1\n",
              "DT Features         65.0       65.2    65.5      65.4  35.0      -40.0"
            ]
          },
          "metadata": {},
          "execution_count": 41
        }
      ]
    },
    {
      "cell_type": "markdown",
      "metadata": {
        "id": "94M5QacfD53z"
      },
      "source": [
        "**Results**:\n",
        "\n",
        "Upon the evaluation, it can be observed that the features selected by RF/GB classifiers has outperformed compared to the results displayed when DT features wwere implemented. Overall, The accuracy of the better model is 69%, compared to the 65% lower.LR1 has also displayed to produce lower error rate (31) compared to LR2(35), and has shown to have more correlation amongst the features and the target (-24.1) compared to LR1 (-40).\n",
        "\n",
        ">Despite the improvement to be minor, it can be said that **RF/GB classifiers have produced better results than DT in the base model.** \n"
      ]
    },
    {
      "cell_type": "markdown",
      "metadata": {
        "id": "rXFf86XGDCHW"
      },
      "source": [
        "### **Tuned Classifier Implementation & Evaluation**"
      ]
    },
    {
      "cell_type": "markdown",
      "metadata": {
        "id": "_kXUMc89Hk5d"
      },
      "source": [
        "The classifiers will now be tuned in order to finalize which features and final best accuracy can the LR classifier get. Right now, the highest accuracy is 65%, we need to tune the model further to improve this value. \n",
        "\n",
        "The path chosen for model tuning and hyperparameter tuning is implementing ***cross validation with GridSearchCV*** and **RandomisedSearchCV**. \n",
        "\n",
        "***GridSearchCV*** calculates the accuracy of the model by using many combinations of the parameters, with the use of the cross validation path, and hence aids in discovering the  combination for the selected classifier.\n",
        "\n",
        "***RandomisedSearchCV*** uses fit and score method, and a sample of the parameters settings are implemented onto the code from the distributions, and not a fixed number. \n",
        "\n",
        "\n",
        "***Links:*** \n",
        "1. https://medium.com/@kesarimohan87/model-selection-using-cross-validation-and-gridsearchcv-8756aac1e9d7\n",
        "2. https://towardsdatascience.com/dont-sweat-the-solver-stuff-aea7cddc3451\n",
        "3. https://scikit-learn.org/stable/modules/generated/sklearn.linear_model.LogisticRegression.html\n",
        "4. https://scikit-learn.org/stable/modules/generated/sklearn.model_selection.RandomizedSearchCV.html"
      ]
    },
    {
      "cell_type": "markdown",
      "metadata": {
        "id": "fxMeBHli-9DP"
      },
      "source": [
        "#### **GridSearchCV**"
      ]
    },
    {
      "cell_type": "code",
      "metadata": {
        "id": "1tXoPmzgAbz3"
      },
      "source": [
        "# TUNING WITH GRIDSEARCHCV\n",
        "\n",
        "#----HYPERPARAMETER TUNING METRICS----\n",
        "\n",
        "#RF/GB Features\t\n",
        "params1 = {'penalty':['l1', 'l2', 'elasticnet', 'none'],\n",
        "    'C': np.logspace(-10, 10, 50), \n",
        "    'solver':['lbfgs','newton-cg','liblinear','sag','saga'],\n",
        "             }\n",
        "#DT Features\n",
        "params2 = {'penalty':['l1', 'l2', 'elasticnet', 'none'],\n",
        "    'C':[1, 10, 100], \n",
        "    'solver':['lbfgs','newton-cg','liblinear','sag','saga'],\n",
        "             }\n",
        "         \n",
        "#----ASSIGNING GRID SEARCH----\n",
        "\n",
        "#RF/GB Features\t\n",
        "grid1 = GridSearchCV(lr, params1)\n",
        "grid1 = grid1.fit(X_train[selected_features_gradientboosting], y_train)\n",
        "\n",
        "#DT Features\n",
        "grid2 = GridSearchCV(lr, params2)\n",
        "grid2 = grid2.fit(X_train[selected_features_decisiontree], y_train)\n",
        "\n",
        "#----SETTING THE CLASSIFIER TO THE BEST ORDER OF HYPERPARAMETERS----\n",
        "\n",
        "#RF/GB Features\n",
        "lr1_tuned_g = grid1.best_estimator_\n",
        "\n",
        "#DT Features\t\n",
        "lr2_tuned_g = grid2.best_estimator_\n",
        "\n",
        "#----TRAIN AND PREDICT----\n",
        "\n",
        "#RF/GB Features\n",
        "lr1_tuned_g.fit(X_train[selected_features_gradientboosting], y_train)\n",
        "lr1_tuned_g_pred = lr1_tuned_g.predict(X_test[selected_features_gradientboosting])\n",
        "\n",
        "#DT Features\t\n",
        "lr2_tuned_g.fit(X_train[selected_features_decisiontree], y_train)\n",
        "lr2_tuned_g_pred = lr2_tuned_g.predict(X_test[selected_features_decisiontree])"
      ],
      "execution_count": null,
      "outputs": []
    },
    {
      "cell_type": "code",
      "metadata": {
        "colab": {
          "base_uri": "https://localhost:8080/"
        },
        "id": "XPwFw4OmNoJw",
        "outputId": "8019a189-bc9a-43c9-ba11-e4dafc4f672e"
      },
      "source": [
        "#BEST METRICS UTLISED\n",
        "print('RF/GB Features:')\n",
        "print('Best Penalty:', grid1.best_estimator_.get_params()['penalty'])\n",
        "print('Best C:', grid1.best_estimator_.get_params()['C'])\n",
        "print('Best solver:', grid1.best_estimator_.get_params()['solver'])\n",
        "\n",
        "print('\\nDT Features:')\n",
        "print('Best Penalty:', grid2.best_estimator_.get_params()['penalty'])\n",
        "print('Best C:', grid2.best_estimator_.get_params()['C'])\n",
        "print('Best solver:', grid2.best_estimator_.get_params()['solver'])"
      ],
      "execution_count": null,
      "outputs": [
        {
          "output_type": "stream",
          "name": "stdout",
          "text": [
            "RF/GB Features:\n",
            "Best Penalty: l1\n",
            "Best C: 0.03727593720314938\n",
            "Best solver: saga\n",
            "\n",
            "DT Features:\n",
            "Best Penalty: l1\n",
            "Best C: 1\n",
            "Best solver: saga\n"
          ]
        }
      ]
    },
    {
      "cell_type": "code",
      "metadata": {
        "colab": {
          "base_uri": "https://localhost:8080/",
          "height": 367
        },
        "id": "sg2T3l-PDXqV",
        "outputId": "8241540f-1e43-4f0e-fef5-f0840a5fac0b"
      },
      "source": [
        "#GRIDSEACHCV - RB/GB\n",
        "auc_roc=metrics.roc_auc_score(y_test,lr1_tuned_g_pred)\n",
        "\n",
        "false_positive_rate, true_positive_rate, thresholds = roc_curve(y_test, lr1_tuned_g_pred)\n",
        "roc_auc = auc(false_positive_rate, true_positive_rate)\n",
        "\n",
        "plt.figure(figsize=(5,5))\n",
        "plt.title('AUC-ROC : LR with GB/RF Features')\n",
        "plt.plot(false_positive_rate,true_positive_rate, color='red',label = 'AUC = %0.2f' % roc_auc)\n",
        "plt.legend(loc = 'lower right')\n",
        "plt.plot([0, 1], [0, 1],linestyle='--')\n",
        "plt.axis('tight')\n",
        "plt.ylabel('True Positive Rate')\n",
        "plt.xlabel('False Positive Rate')"
      ],
      "execution_count": null,
      "outputs": [
        {
          "output_type": "execute_result",
          "data": {
            "text/plain": [
              "Text(0.5, 0, 'False Positive Rate')"
            ]
          },
          "metadata": {},
          "execution_count": 44
        },
        {
          "output_type": "display_data",
          "data": {
            "image/png": "[encoded data removed]",
            "text/plain": [
              "<Figure size 360x360 with 1 Axes>"
            ]
          },
          "metadata": {
            "needs_background": "light"
          }
        }
      ]
    },
    {
      "cell_type": "code",
      "metadata": {
        "colab": {
          "base_uri": "https://localhost:8080/",
          "height": 367
        },
        "id": "MMAVgbe_DZV4",
        "outputId": "81d3cda4-20f8-4b68-dd6d-0ab3515964c7"
      },
      "source": [
        "#GRIDSEACHCV - DT\n",
        "auc_roc=metrics.roc_auc_score(y_test,lr2_tuned_g_pred)\n",
        "\n",
        "false_positive_rate, true_positive_rate, thresholds = roc_curve(y_test, lr2_tuned_g_pred)\n",
        "roc_auc = auc(false_positive_rate, true_positive_rate)\n",
        "\n",
        "plt.figure(figsize=(5,5))\n",
        "plt.title('AUC-ROC : LR with DT Features')\n",
        "plt.plot(false_positive_rate,true_positive_rate, color='red',label = 'AUC = %0.2f' % roc_auc)\n",
        "plt.legend(loc = 'lower right')\n",
        "plt.plot([0, 1], [0, 1],linestyle='--')\n",
        "plt.axis('tight')\n",
        "plt.ylabel('True Positive Rate')\n",
        "plt.xlabel('False Positive Rate')"
      ],
      "execution_count": null,
      "outputs": [
        {
          "output_type": "execute_result",
          "data": {
            "text/plain": [
              "Text(0.5, 0, 'False Positive Rate')"
            ]
          },
          "metadata": {},
          "execution_count": 45
        },
        {
          "output_type": "display_data",
          "data": {
            "image/png": "[encoded data removed]",
            "text/plain": [
              "<Figure size 360x360 with 1 Axes>"
            ]
          },
          "metadata": {
            "needs_background": "light"
          }
        }
      ]
    },
    {
      "cell_type": "code",
      "metadata": {
        "colab": {
          "base_uri": "https://localhost:8080/",
          "height": 111
        },
        "id": "aDlE-xPuOMWC",
        "outputId": "e8bbd301-8b88-4603-f7f1-cf035e954a59"
      },
      "source": [
        "#EVALUATION - GRIDSEARCHCV\n",
        "\n",
        "#RF/GB FEATURES\n",
        "a1 = accuracy_score(y_test, lr1_tuned_g_pred) * 100\n",
        "p1 = precision_score(y_test, lr1_tuned_g_pred)* 100\n",
        "r1 = recall_score(y_test, lr1_tuned_g_pred)*100\n",
        "f11 = f1_score(y_test, lr1_tuned_g_pred)*100\n",
        "mse1 = mean_squared_error(y_test, lr1_tuned_g_pred)*100\n",
        "r21 = r2_score(y_test, lr1_tuned_g_pred)*100\n",
        "\n",
        "#DT FEATURES\n",
        "a2 = accuracy_score(y_test, lr2_tuned_g_pred) * 100\n",
        "p2 = precision_score(y_test, lr2_tuned_g_pred)* 100\n",
        "r2 = recall_score(y_test, lr2_tuned_g_pred)*100\n",
        "f12 = f1_score(y_test, lr2_tuned_g_pred)*100\n",
        "mse2 = mean_squared_error(y_test, lr2_tuned_g_pred)*100\n",
        "r22 = r2_score(y_test, lr2_tuned_g_pred)*100\n",
        "\n",
        "#COMPARISON TABLE\n",
        "tuned={'Accuracy': [round(a1,1), round(a2,1)],\n",
        "                'Precision': [round(p1,1), round(p2,1)],\n",
        "                'Recall': [round(r1,1), round(r2,1)],\n",
        "                'F1-Score': [round(f11,1), round(f12,1)],\n",
        "                'MSE': [round(mse1,1), round(mse2,1)],\n",
        "                'R Squared': [round(r21,1), round(r22,1)],\n",
        "               }\n",
        "tlr = pd.DataFrame(tuned, columns = ['Accuracy','Precision','Recall','F1-Score','MSE','R Squared'], \n",
        "                   index=['RF/GB Features','DT Features'])\n",
        "tlr"
      ],
      "execution_count": null,
      "outputs": [
        {
          "output_type": "execute_result",
          "data": {
            "text/html": [
              "<div>\n",
              "<style scoped>\n",
              "    .dataframe tbody tr th:only-of-type {\n",
              "        vertical-align: middle;\n",
              "    }\n",
              "\n",
              "    .dataframe tbody tr th {\n",
              "        vertical-align: top;\n",
              "    }\n",
              "\n",
              "    .dataframe thead th {\n",
              "        text-align: right;\n",
              "    }\n",
              "</style>\n",
              "<table border=\"1\" class=\"dataframe\">\n",
              "  <thead>\n",
              "    <tr style=\"text-align: right;\">\n",
              "      <th></th>\n",
              "      <th>Accuracy</th>\n",
              "      <th>Precision</th>\n",
              "      <th>Recall</th>\n",
              "      <th>F1-Score</th>\n",
              "      <th>MSE</th>\n",
              "      <th>R Squared</th>\n",
              "    </tr>\n",
              "  </thead>\n",
              "  <tbody>\n",
              "    <tr>\n",
              "      <th>RF/GB Features</th>\n",
              "      <td>71.5</td>\n",
              "      <td>71.8</td>\n",
              "      <td>71.4</td>\n",
              "      <td>71.6</td>\n",
              "      <td>28.5</td>\n",
              "      <td>-14.2</td>\n",
              "    </tr>\n",
              "    <tr>\n",
              "      <th>DT Features</th>\n",
              "      <td>65.3</td>\n",
              "      <td>65.4</td>\n",
              "      <td>66.0</td>\n",
              "      <td>65.7</td>\n",
              "      <td>34.7</td>\n",
              "      <td>-39.0</td>\n",
              "    </tr>\n",
              "  </tbody>\n",
              "</table>\n",
              "</div>"
            ],
            "text/plain": [
              "                Accuracy  Precision  Recall  F1-Score   MSE  R Squared\n",
              "RF/GB Features      71.5       71.8    71.4      71.6  28.5      -14.2\n",
              "DT Features         65.3       65.4    66.0      65.7  34.7      -39.0"
            ]
          },
          "metadata": {},
          "execution_count": 46
        }
      ]
    },
    {
      "cell_type": "markdown",
      "metadata": {
        "id": "b41Ns_Rl-xyI"
      },
      "source": [
        "#### **RandomizedSearchCV**"
      ]
    },
    {
      "cell_type": "code",
      "metadata": {
        "id": "eRG5_7LuJkoK"
      },
      "source": [
        "#TUNING WITH RANDOMIZEDSEARCHCV\n",
        "\n",
        "#HYPERPARAMETERS ARE CHOSEN FROM THE PREVIOUS GRIDSEARCHCV- UNCHANGED\n",
        "\n",
        "#----ASSIGNING RANDOMIZEDSEARCHCV----\n",
        "#RF/GB FEATURES\n",
        "random1 = RandomizedSearchCV(lr, params1)\n",
        "random1 = random1.fit(X_train[selected_features_gradientboosting], y_train)\n",
        "\n",
        "random2 = RandomizedSearchCV(lr, params2)\n",
        "random2 = random2.fit(X_train[selected_features_decisiontree], y_train)\n",
        "\n",
        "#----SETTING THE CLASSIFIER TO THE BEST ORDER OF HYPERPARAMETERS----\n",
        "#RF/GB FEATURES\n",
        "lr1_tuned_r = random1.best_estimator_\n",
        "lr2_tuned_r = random2.best_estimator_\n",
        "\n",
        "#----TRAIN AND PREDICT----\n",
        "#RF/GB FEATURES\n",
        "lr1_tuned_r.fit(X_train[selected_features_gradientboosting], y_train)\n",
        "lr1_tuned_r_pred = lr1_tuned_r.predict(X_test[selected_features_gradientboosting])\n",
        "\n",
        "lr2_tuned_r.fit(X_train[selected_features_decisiontree], y_train)\n",
        "lr2_tuned_r_pred = lr2_tuned_r.predict(X_test[selected_features_decisiontree])"
      ],
      "execution_count": null,
      "outputs": []
    },
    {
      "cell_type": "code",
      "metadata": {
        "colab": {
          "base_uri": "https://localhost:8080/"
        },
        "id": "rSW60ZckQPbd",
        "outputId": "8f0cc9c1-644c-4e50-c6c1-45d5aaf85e7c"
      },
      "source": [
        "#BEST METRICS UTLISED\n",
        "print('RF/GB Features:')\n",
        "print('Best Penalty:', random1.best_estimator_.get_params()['penalty'])\n",
        "print('Best C:', random1.best_estimator_.get_params()['C'])\n",
        "print('Best solver:', random1.best_estimator_.get_params()['solver'])\n",
        "\n",
        "print('\\nDT Features:')\n",
        "print('Best Penalty:', random2.best_estimator_.get_params()['penalty'])\n",
        "print('Best C:', random2.best_estimator_.get_params()['C'])\n",
        "print('Best solver:', random2.best_estimator_.get_params()['solver'])"
      ],
      "execution_count": null,
      "outputs": [
        {
          "output_type": "stream",
          "name": "stdout",
          "text": [
            "RF/GB Features:\n",
            "Best Penalty: l2\n",
            "Best C: 0.2442053094548655\n",
            "Best solver: lbfgs\n",
            "\n",
            "DT Features:\n",
            "Best Penalty: l1\n",
            "Best C: 1\n",
            "Best solver: saga\n"
          ]
        }
      ]
    },
    {
      "cell_type": "code",
      "metadata": {
        "colab": {
          "base_uri": "https://localhost:8080/",
          "height": 367
        },
        "id": "v2aCuOWQDv3X",
        "outputId": "8e224f39-92f2-4cb3-dac2-965cd0126d6a"
      },
      "source": [
        "#RANDOMIZEDSEARCHCV - RB/GB\n",
        "auc_roc=metrics.roc_auc_score(y_test,lr1_tuned_r_pred)\n",
        "\n",
        "false_positive_rate, true_positive_rate, thresholds = roc_curve(y_test, lr1_tuned_r_pred)\n",
        "roc_auc = auc(false_positive_rate, true_positive_rate)\n",
        "\n",
        "plt.figure(figsize=(5,5))\n",
        "plt.title('AUC-ROC : Tuned with GB/RF Features')\n",
        "plt.plot(false_positive_rate,true_positive_rate, color='red',label = 'AUC = %0.2f' % roc_auc)\n",
        "plt.legend(loc = 'lower right')\n",
        "plt.plot([0, 1], [0, 1],linestyle='--')\n",
        "plt.axis('tight')\n",
        "plt.ylabel('True Positive Rate')\n",
        "plt.xlabel('False Positive Rate')"
      ],
      "execution_count": null,
      "outputs": [
        {
          "output_type": "execute_result",
          "data": {
            "text/plain": [
              "Text(0.5, 0, 'False Positive Rate')"
            ]
          },
          "metadata": {},
          "execution_count": 49
        },
        {
          "output_type": "display_data",
          "data": {
            "image/png": "[encoded data removed]",
            "text/plain": [
              "<Figure size 360x360 with 1 Axes>"
            ]
          },
          "metadata": {
            "needs_background": "light"
          }
        }
      ]
    },
    {
      "cell_type": "code",
      "metadata": {
        "colab": {
          "base_uri": "https://localhost:8080/",
          "height": 367
        },
        "id": "MEiUNrbjDwfb",
        "outputId": "d20d5563-517e-4ca5-cb4c-0433a813b9af"
      },
      "source": [
        "#RANDOMIZEDSEARCHCV - DT\n",
        "auc_roc=metrics.roc_auc_score(y_test,lr2_tuned_g_pred)\n",
        "\n",
        "false_positive_rate, true_positive_rate, thresholds = roc_curve(y_test, lr2_tuned_g_pred)\n",
        "roc_auc = auc(false_positive_rate, true_positive_rate)\n",
        "\n",
        "plt.figure(figsize=(5,5))\n",
        "plt.title('AUC-ROC : Tuned with DT Features')\n",
        "plt.plot(false_positive_rate,true_positive_rate, color='red',label = 'AUC = %0.2f' % roc_auc)\n",
        "plt.legend(loc = 'lower right')\n",
        "plt.plot([0, 1], [0, 1],linestyle='--')\n",
        "plt.axis('tight')\n",
        "plt.ylabel('True Positive Rate')\n",
        "plt.xlabel('False Positive Rate')"
      ],
      "execution_count": null,
      "outputs": [
        {
          "output_type": "execute_result",
          "data": {
            "text/plain": [
              "Text(0.5, 0, 'False Positive Rate')"
            ]
          },
          "metadata": {},
          "execution_count": 50
        },
        {
          "output_type": "display_data",
          "data": {
            "image/png": "[encoded data removed]",
            "text/plain": [
              "<Figure size 360x360 with 1 Axes>"
            ]
          },
          "metadata": {
            "needs_background": "light"
          }
        }
      ]
    },
    {
      "cell_type": "code",
      "metadata": {
        "colab": {
          "base_uri": "https://localhost:8080/",
          "height": 111
        },
        "id": "nrqaauhqQcVI",
        "outputId": "9ba5f441-418d-4044-e785-139316ec8301"
      },
      "source": [
        "#EVALUATION - RANDOMIZEDSEARCHCV\n",
        "\n",
        "#RF/GB FEATURES\n",
        "a1r = accuracy_score(y_test, lr1_tuned_r_pred) * 100\n",
        "p1r = precision_score(y_test, lr1_tuned_r_pred)* 100\n",
        "r1r = recall_score(y_test, lr1_tuned_r_pred)*100\n",
        "f11r = f1_score(y_test, lr1_tuned_r_pred)*100\n",
        "mse1r = mean_squared_error(y_test, lr1_tuned_r_pred)*100\n",
        "r21r = r2_score(y_test, lr1_tuned_r_pred)*100\n",
        "\n",
        "#DT FEATURES\n",
        "a2r = accuracy_score(y_test, lr2_tuned_r_pred) * 100\n",
        "p2r = precision_score(y_test, lr2_tuned_r_pred)* 100\n",
        "r2r = recall_score(y_test, lr2_tuned_r_pred)*100\n",
        "f12r = f1_score(y_test, lr2_tuned_r_pred)*100\n",
        "mse2r = mean_squared_error(y_test, lr2_tuned_r_pred)*100\n",
        "r22r = r2_score(y_test, lr2_tuned_r_pred)*100\n",
        "\n",
        "#COMPARISON TABLE\n",
        "tuned={'Accuracy': [round(a1r,1), round(a2r,1)],\n",
        "                'Precision': [round(p1r,1), round(p2r,1)],\n",
        "                'Recall': [round(r1r,1), round(r2r,1)],\n",
        "                'F1-Score': [round(f11r,1), round(f12r,1)],\n",
        "                'MSE': [round(mse1r,1), round(mse2r,1)],\n",
        "                'R Squared': [round(r21r,1), round(r22r,1)],\n",
        "               }\n",
        "tlr = pd.DataFrame(tuned, columns = ['Accuracy','Precision','Recall','F1-Score','MSE','R Squared'], \n",
        "                   index=['RF/GB Features','DT Features'])\n",
        "tlr"
      ],
      "execution_count": null,
      "outputs": [
        {
          "output_type": "execute_result",
          "data": {
            "text/html": [
              "<div>\n",
              "<style scoped>\n",
              "    .dataframe tbody tr th:only-of-type {\n",
              "        vertical-align: middle;\n",
              "    }\n",
              "\n",
              "    .dataframe tbody tr th {\n",
              "        vertical-align: top;\n",
              "    }\n",
              "\n",
              "    .dataframe thead th {\n",
              "        text-align: right;\n",
              "    }\n",
              "</style>\n",
              "<table border=\"1\" class=\"dataframe\">\n",
              "  <thead>\n",
              "    <tr style=\"text-align: right;\">\n",
              "      <th></th>\n",
              "      <th>Accuracy</th>\n",
              "      <th>Precision</th>\n",
              "      <th>Recall</th>\n",
              "      <th>F1-Score</th>\n",
              "      <th>MSE</th>\n",
              "      <th>R Squared</th>\n",
              "    </tr>\n",
              "  </thead>\n",
              "  <tbody>\n",
              "    <tr>\n",
              "      <th>RF/GB Features</th>\n",
              "      <td>69.0</td>\n",
              "      <td>68.8</td>\n",
              "      <td>70.4</td>\n",
              "      <td>69.6</td>\n",
              "      <td>31.0</td>\n",
              "      <td>-24.1</td>\n",
              "    </tr>\n",
              "    <tr>\n",
              "      <th>DT Features</th>\n",
              "      <td>65.3</td>\n",
              "      <td>65.4</td>\n",
              "      <td>66.0</td>\n",
              "      <td>65.7</td>\n",
              "      <td>34.7</td>\n",
              "      <td>-39.0</td>\n",
              "    </tr>\n",
              "  </tbody>\n",
              "</table>\n",
              "</div>"
            ],
            "text/plain": [
              "                Accuracy  Precision  Recall  F1-Score   MSE  R Squared\n",
              "RF/GB Features      69.0       68.8    70.4      69.6  31.0      -24.1\n",
              "DT Features         65.3       65.4    66.0      65.7  34.7      -39.0"
            ]
          },
          "metadata": {},
          "execution_count": 51
        }
      ]
    },
    {
      "cell_type": "markdown",
      "metadata": {
        "id": "IEnrFTX6_JWX"
      },
      "source": [
        "### **Summary of Results and Conclusion**"
      ]
    },
    {
      "cell_type": "code",
      "metadata": {
        "colab": {
          "base_uri": "https://localhost:8080/",
          "height": 221
        },
        "id": "njVOmfNhJBQj",
        "outputId": "b375a7be-0982-4812-ac9c-713fc35d3493"
      },
      "source": [
        "#SUMMARY OF RF/GB FEATURES WITHIN LOGISTIC REGRESSION\n",
        "\n",
        "#IMPROVEMENT -RF/GB\n",
        "d_a1 = a1 - lr1_untuned_a\n",
        "d_p1 = p1 -lr1_untuned_p\n",
        "d_r1 = r1 - lr1_untuned_r\n",
        "d_f11 = f11 - lr1_untuned_f1\n",
        "d_mse1 = mse1 - lr1_untuned_mse\n",
        "d_r21 = r21 - lr1_untuned_r2\n",
        "\n",
        "\n",
        "d_a1r = a1r - lr1_untuned_a\n",
        "d_p1r = p1r -lr1_untuned_p\n",
        "d_r1r = r1r - lr1_untuned_r\n",
        "d_f11r = f11r - lr1_untuned_f1\n",
        "d_mse1r = mse1r - lr1_untuned_mse\n",
        "d_r21r = r21r - lr1_untuned_r2\n",
        "\n",
        "\n",
        "print(\"RF/GB FEATURES\")\n",
        "lrtuned={'Accuracy': [round(lr1_untuned_a,1), round(a1,1), round(a1r,1), round(d_a1,1), round(d_a1r,1)],\n",
        "                'Precision': [round(lr1_untuned_p,1), round(p1,1), round(p1r,1), round(d_p1,1), round(d_p1r,1)],\n",
        "                'Recall': [round(lr1_untuned_r,1), round(r1,1), round(r1r,1), round(d_r1,1), round(d_r1r,1)],\n",
        "                'F1-Score': [round(lr1_untuned_f1,1), round(f11,1), round(f11r,1), round(d_f11,1), round(d_f11r,1)],\n",
        "                'MSE': [round(lr1_untuned_mse,1), round(mse1,1), round(mse1r,1), round(d_mse1,1), round(d_mse1r,1)],\n",
        "                'R Squared': [round(lr1_untuned_r2,1), round(r21,1), round(r21r,1), round(d_r21,1), round(d_r21r,1)]\n",
        "               }\n",
        "tlr = pd.DataFrame(lrtuned, columns = ['Accuracy','Precision','Recall','F1-Score','MSE','R Squared'], \n",
        "                   index=['Untuned','Tuned - GridSearchCV','Tuned - RandomizedSearchCV', '% improved (Grid)','% improved (Random)'])\n",
        "tlr"
      ],
      "execution_count": null,
      "outputs": [
        {
          "output_type": "stream",
          "name": "stdout",
          "text": [
            "RF/GB FEATURES\n"
          ]
        },
        {
          "output_type": "execute_result",
          "data": {
            "text/html": [
              "<div>\n",
              "<style scoped>\n",
              "    .dataframe tbody tr th:only-of-type {\n",
              "        vertical-align: middle;\n",
              "    }\n",
              "\n",
              "    .dataframe tbody tr th {\n",
              "        vertical-align: top;\n",
              "    }\n",
              "\n",
              "    .dataframe thead th {\n",
              "        text-align: right;\n",
              "    }\n",
              "</style>\n",
              "<table border=\"1\" class=\"dataframe\">\n",
              "  <thead>\n",
              "    <tr style=\"text-align: right;\">\n",
              "      <th></th>\n",
              "      <th>Accuracy</th>\n",
              "      <th>Precision</th>\n",
              "      <th>Recall</th>\n",
              "      <th>F1-Score</th>\n",
              "      <th>MSE</th>\n",
              "      <th>R Squared</th>\n",
              "    </tr>\n",
              "  </thead>\n",
              "  <tbody>\n",
              "    <tr>\n",
              "      <th>Untuned</th>\n",
              "      <td>69.0</td>\n",
              "      <td>68.8</td>\n",
              "      <td>70.4</td>\n",
              "      <td>69.6</td>\n",
              "      <td>31.0</td>\n",
              "      <td>-24.1</td>\n",
              "    </tr>\n",
              "    <tr>\n",
              "      <th>Tuned - GridSearchCV</th>\n",
              "      <td>71.5</td>\n",
              "      <td>71.8</td>\n",
              "      <td>71.4</td>\n",
              "      <td>71.6</td>\n",
              "      <td>28.5</td>\n",
              "      <td>-14.2</td>\n",
              "    </tr>\n",
              "    <tr>\n",
              "      <th>Tuned - RandomizedSearchCV</th>\n",
              "      <td>69.0</td>\n",
              "      <td>68.8</td>\n",
              "      <td>70.4</td>\n",
              "      <td>69.6</td>\n",
              "      <td>31.0</td>\n",
              "      <td>-24.1</td>\n",
              "    </tr>\n",
              "    <tr>\n",
              "      <th>% improved (Grid)</th>\n",
              "      <td>2.5</td>\n",
              "      <td>3.0</td>\n",
              "      <td>1.0</td>\n",
              "      <td>2.0</td>\n",
              "      <td>-2.5</td>\n",
              "      <td>9.9</td>\n",
              "    </tr>\n",
              "    <tr>\n",
              "      <th>% improved (Random)</th>\n",
              "      <td>0.0</td>\n",
              "      <td>0.0</td>\n",
              "      <td>0.0</td>\n",
              "      <td>0.0</td>\n",
              "      <td>0.0</td>\n",
              "      <td>0.0</td>\n",
              "    </tr>\n",
              "  </tbody>\n",
              "</table>\n",
              "</div>"
            ],
            "text/plain": [
              "                            Accuracy  Precision  Recall  F1-Score   MSE  \\\n",
              "Untuned                         69.0       68.8    70.4      69.6  31.0   \n",
              "Tuned - GridSearchCV            71.5       71.8    71.4      71.6  28.5   \n",
              "Tuned - RandomizedSearchCV      69.0       68.8    70.4      69.6  31.0   \n",
              "% improved (Grid)                2.5        3.0     1.0       2.0  -2.5   \n",
              "% improved (Random)              0.0        0.0     0.0       0.0   0.0   \n",
              "\n",
              "                            R Squared  \n",
              "Untuned                         -24.1  \n",
              "Tuned - GridSearchCV            -14.2  \n",
              "Tuned - RandomizedSearchCV      -24.1  \n",
              "% improved (Grid)                 9.9  \n",
              "% improved (Random)               0.0  "
            ]
          },
          "metadata": {},
          "execution_count": 52
        }
      ]
    },
    {
      "cell_type": "code",
      "metadata": {
        "colab": {
          "base_uri": "https://localhost:8080/",
          "height": 223
        },
        "id": "h-OYxZXRXLcI",
        "outputId": "f7a88ee9-0f46-4ea2-a5ef-49ba49502dc9"
      },
      "source": [
        "#SUMMARY OF DT FEATURES WITHIN LOGISTIC REGRESSION\n",
        "\n",
        "#IMPROVEMENT\n",
        "\n",
        "d_a2 = a2 - lr2_untuned_a\n",
        "d_p2 = p2 -lr2_untuned_p\n",
        "d_r2 = r2 - lr2_untuned_r\n",
        "d_f12 = f12 - lr2_untuned_f1\n",
        "d_mse2 = mse2 - lr2_untuned_mse\n",
        "d_r22 = r22 - lr2_untuned_r2\n",
        "\n",
        "\n",
        "d_a2r = a2r - lr2_untuned_a\n",
        "d_p2r = p2r -lr2_untuned_p\n",
        "d_r2r = r2r - lr2_untuned_r\n",
        "d_f12r = f12r - lr2_untuned_f1\n",
        "d_mse2r = mse2r - lr2_untuned_mse\n",
        "d_r22r = r22r - lr2_untuned_r2\n",
        "\n",
        "print(\"DT FEATURES\")\n",
        "lrtuned={'Accuracy': [round(lr2_untuned_a,1), round(a2,1), round(a2r,1), round(d_a2,1), round(d_a2r,1)],\n",
        "                'Precision': [round(lr2_untuned_p,1), round(p2,1), round(p2r,1), round(d_p2,1), round(d_p2r,1)],\n",
        "                'Recall': [round(lr2_untuned_r,1), round(r2,1), round(r2r,1), round(d_r2,1), round(d_r2r,1)],\n",
        "                'F1-Score': [round(lr2_untuned_f1,1), round(f12,1), round(f12r,1), round(d_f12,1), round(d_f12r,1)],\n",
        "                'MSE': [round(lr2_untuned_mse,1), round(mse2,1), round(mse2r,1), round(d_mse2,1), round(d_mse2r,1)],\n",
        "                'R Squared': [round(lr2_untuned_r2,1), round(r22,1), round(r22r,1), round(d_r22,1), round(d_r22r,1)]\n",
        "               }\n",
        "tlr = pd.DataFrame(lrtuned, columns = ['Accuracy','Precision','Recall','F1-Score','MSE','R Squared'], \n",
        "                   index=['Untuned','Tuned - GridSearchCV','Tuned - RandomizedSearchCV', '% improved (Grid)','% improved (Random)'])\n",
        "tlr"
      ],
      "execution_count": null,
      "outputs": [
        {
          "output_type": "stream",
          "name": "stdout",
          "text": [
            "DT FEATURES\n"
          ]
        },
        {
          "output_type": "execute_result",
          "data": {
            "text/html": [
              "<div>\n",
              "<style scoped>\n",
              "    .dataframe tbody tr th:only-of-type {\n",
              "        vertical-align: middle;\n",
              "    }\n",
              "\n",
              "    .dataframe tbody tr th {\n",
              "        vertical-align: top;\n",
              "    }\n",
              "\n",
              "    .dataframe thead th {\n",
              "        text-align: right;\n",
              "    }\n",
              "</style>\n",
              "<table border=\"1\" class=\"dataframe\">\n",
              "  <thead>\n",
              "    <tr style=\"text-align: right;\">\n",
              "      <th></th>\n",
              "      <th>Accuracy</th>\n",
              "      <th>Precision</th>\n",
              "      <th>Recall</th>\n",
              "      <th>F1-Score</th>\n",
              "      <th>MSE</th>\n",
              "      <th>R Squared</th>\n",
              "    </tr>\n",
              "  </thead>\n",
              "  <tbody>\n",
              "    <tr>\n",
              "      <th>Untuned</th>\n",
              "      <td>65.0</td>\n",
              "      <td>65.2</td>\n",
              "      <td>65.5</td>\n",
              "      <td>65.4</td>\n",
              "      <td>35.0</td>\n",
              "      <td>-40.0</td>\n",
              "    </tr>\n",
              "    <tr>\n",
              "      <th>Tuned - GridSearchCV</th>\n",
              "      <td>65.3</td>\n",
              "      <td>65.4</td>\n",
              "      <td>66.0</td>\n",
              "      <td>65.7</td>\n",
              "      <td>34.7</td>\n",
              "      <td>-39.0</td>\n",
              "    </tr>\n",
              "    <tr>\n",
              "      <th>Tuned - RandomizedSearchCV</th>\n",
              "      <td>65.0</td>\n",
              "      <td>65.2</td>\n",
              "      <td>65.5</td>\n",
              "      <td>65.4</td>\n",
              "      <td>35.0</td>\n",
              "      <td>-40.0</td>\n",
              "    </tr>\n",
              "    <tr>\n",
              "      <th>% improved (Grid)</th>\n",
              "      <td>0.2</td>\n",
              "      <td>0.2</td>\n",
              "      <td>0.5</td>\n",
              "      <td>0.3</td>\n",
              "      <td>-0.2</td>\n",
              "      <td>1.0</td>\n",
              "    </tr>\n",
              "    <tr>\n",
              "      <th>% improved (Random)</th>\n",
              "      <td>0.0</td>\n",
              "      <td>0.0</td>\n",
              "      <td>0.0</td>\n",
              "      <td>0.0</td>\n",
              "      <td>0.0</td>\n",
              "      <td>0.0</td>\n",
              "    </tr>\n",
              "  </tbody>\n",
              "</table>\n",
              "</div>"
            ],
            "text/plain": [
              "                            Accuracy  Precision  Recall  F1-Score   MSE  \\\n",
              "Untuned                         65.0       65.2    65.5      65.4  35.0   \n",
              "Tuned - GridSearchCV            65.3       65.4    66.0      65.7  34.7   \n",
              "Tuned - RandomizedSearchCV      65.0       65.2    65.5      65.4  35.0   \n",
              "% improved (Grid)                0.2        0.2     0.5       0.3  -0.2   \n",
              "% improved (Random)              0.0        0.0     0.0       0.0   0.0   \n",
              "\n",
              "                            R Squared  \n",
              "Untuned                         -40.0  \n",
              "Tuned - GridSearchCV            -39.0  \n",
              "Tuned - RandomizedSearchCV      -40.0  \n",
              "% improved (Grid)                 1.0  \n",
              "% improved (Random)               0.0  "
            ]
          },
          "metadata": {},
          "execution_count": 93
        }
      ]
    },
    {
      "cell_type": "markdown",
      "metadata": {
        "id": "nxmGhualI51t"
      },
      "source": [
        "**Results:**\n",
        "\n",
        "Overall, both RandomizedSearchCV and GridSearchCV has produced improved results compared to the base model. Out of the optimisers, GridSearchCV has perfomed better, which can be said to be due to the fact that it searches for all the best combinations compared to RandomisedSearchCV where only a random combination is selected each time. \n",
        "\n",
        "Out of them, the feature selection performed best is RF/DF features (8 features), where it has improved 2.5% in accuracy. This feature group has also outperformed in terms of Random search, and overall has outperformed in base model, and both of the optimisers.\n",
        "\n",
        ">**Best model overall -> Logistic Regession with 8 Features (RF/GB) with GridSearchCV (71.5% acc)**"
      ]
    }
  ]
}
